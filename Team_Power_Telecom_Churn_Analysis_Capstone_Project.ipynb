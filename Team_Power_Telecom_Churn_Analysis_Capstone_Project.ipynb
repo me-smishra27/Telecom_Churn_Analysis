{
  "nbformat": 4,
  "nbformat_minor": 0,
  "metadata": {
    "kernelspec": {
      "display_name": "Python 3",
      "language": "python",
      "name": "python3"
    },
    "language_info": {
      "codemirror_mode": {
        "name": "ipython",
        "version": 3
      },
      "file_extension": ".py",
      "mimetype": "text/x-python",
      "name": "python",
      "nbconvert_exporter": "python",
      "pygments_lexer": "ipython3",
      "version": "3.6.6"
    },
    "colab": {
      "name": "Team_Power_Telecom Churn Analysis - Capstone Project.ipynb",
      "provenance": [],
      "collapsed_sections": [
        "JAuxGLcNStDe",
        "8nEc09QpTlb5"
      ],
      "include_colab_link": true
    }
  },
  "cells": [
    {
      "cell_type": "markdown",
      "metadata": {
        "id": "view-in-github",
        "colab_type": "text"
      },
      "source": [
        "<a href=\"https://colab.research.google.com/github/me-smishra27/Telecom_Churn_Analysis/blob/main/Team_Power_Telecom_Churn_Analysis_Capstone_Project.ipynb\" target=\"_parent\"><img src=\"https://colab.research.google.com/assets/colab-badge.svg\" alt=\"Open In Colab\"/></a>"
      ]
    },
    {
      "cell_type": "markdown",
      "metadata": {
        "id": "Y06xIdG26kRF"
      },
      "source": [
        "## <b> Orange S.A., formerly France Télécom S.A., is a French multinational telecommunications corporation. The Orange Telecom's Churn Dataset, consists of cleaned customer activity data (features), along with a churn label specifying whether a customer canceled the subscription.\n",
        "\n",
        "## <b> Explore and analyze the data to discover key factors responsible for customer churn and come up with ways/recommendations to ensure customer retention. </b>"
      ]
    },
    {
      "cell_type": "markdown",
      "metadata": {
        "id": "i_EbNk-h7grJ"
      },
      "source": [
        "#\"churn” with respect to the Telecom industry, is defined as the percentage of subscribers moving from a specific service or a service provider to another in a given period of time."
      ]
    },
    {
      "cell_type": "code",
      "metadata": {
        "id": "lrSjRGdlCIGj"
      },
      "source": [
        "import pandas as pd\n",
        "import numpy as np\n",
        "import matplotlib.pyplot as plt\n",
        "import seaborn as sns\n",
        "import matplotlib.ticker as mtick\n",
        "\n",
        "%matplotlib inline"
      ],
      "execution_count": null,
      "outputs": []
    },
    {
      "cell_type": "code",
      "metadata": {
        "id": "PgYqjWjlBqY0",
        "colab": {
          "base_uri": "https://localhost:8080/"
        },
        "outputId": "631f916d-e2c0-480a-c871-15800847ed48"
      },
      "source": [
        "from google.colab import drive\n",
        "drive.mount('/content/drive')"
      ],
      "execution_count": null,
      "outputs": [
        {
          "output_type": "stream",
          "text": [
            "Drive already mounted at /content/drive; to attempt to forcibly remount, call drive.mount(\"/content/drive\", force_remount=True).\n"
          ],
          "name": "stdout"
        }
      ]
    },
    {
      "cell_type": "code",
      "metadata": {
        "id": "dByMsuzT8Tnw"
      },
      "source": [
        "filepath='/content/drive/MyDrive/AlmaBetter/Python for Data Science/Capston Project/Copy of Telecom Churn.csv'\n",
        "tele_df=pd.read_csv(filepath)"
      ],
      "execution_count": null,
      "outputs": []
    },
    {
      "cell_type": "code",
      "metadata": {
        "id": "zFSNuf3BvTDw"
      },
      "source": [
        "tele_df.rename(columns={ 'Account length':'acc_length', 'Area code':'area_code', 'International plan':'intl_plan',\n",
        "       'Voice mail plan':'voice_mail_plan', 'Number vmail messages':'num_vmail_msg', 'Total day minutes':'ttl_day_min',\n",
        "       'Total day calls':'ttl_day_calls', 'Total day charge':'ttl_day_chrg', 'Total eve minutes':'ttl_eve_min',\n",
        "       'Total eve calls':'ttl_eve_calls', 'Total eve charge':'ttl_eve_chrg', 'Total night minutes':'ttl_nyt_min',\n",
        "       'Total night calls':'ttl_nyt_calls', 'Total night charge':'ttl_nyt_chrg', 'Total intl minutes':'ttl_intl_min',\n",
        "       'Total intl calls':'ttl_intl_calls', 'Total intl charge':'ttl_intl_chrg', 'Customer service calls':'cust_servc_calls'},inplace=True)"
      ],
      "execution_count": null,
      "outputs": []
    },
    {
      "cell_type": "code",
      "metadata": {
        "id": "j2shONLxCbH2",
        "colab": {
          "base_uri": "https://localhost:8080/",
          "height": 222
        },
        "outputId": "6efb2534-4293-47df-8f29-766dd31e647d"
      },
      "source": [
        "tele_df.head()"
      ],
      "execution_count": null,
      "outputs": [
        {
          "output_type": "execute_result",
          "data": {
            "text/html": [
              "<div>\n",
              "<style scoped>\n",
              "    .dataframe tbody tr th:only-of-type {\n",
              "        vertical-align: middle;\n",
              "    }\n",
              "\n",
              "    .dataframe tbody tr th {\n",
              "        vertical-align: top;\n",
              "    }\n",
              "\n",
              "    .dataframe thead th {\n",
              "        text-align: right;\n",
              "    }\n",
              "</style>\n",
              "<table border=\"1\" class=\"dataframe\">\n",
              "  <thead>\n",
              "    <tr style=\"text-align: right;\">\n",
              "      <th></th>\n",
              "      <th>State</th>\n",
              "      <th>acc_length</th>\n",
              "      <th>area_code</th>\n",
              "      <th>intl_plan</th>\n",
              "      <th>voice_mail_plan</th>\n",
              "      <th>num_vmail_msg</th>\n",
              "      <th>ttl_day_min</th>\n",
              "      <th>ttl_day_calls</th>\n",
              "      <th>ttl_day_chrg</th>\n",
              "      <th>ttl_eve_min</th>\n",
              "      <th>ttl_eve_calls</th>\n",
              "      <th>ttl_eve_chrg</th>\n",
              "      <th>ttl_nyt_min</th>\n",
              "      <th>ttl_nyt_calls</th>\n",
              "      <th>ttl_nyt_chrg</th>\n",
              "      <th>ttl_intl_min</th>\n",
              "      <th>ttl_intl_calls</th>\n",
              "      <th>ttl_intl_chrg</th>\n",
              "      <th>cust_servc_calls</th>\n",
              "      <th>Churn</th>\n",
              "    </tr>\n",
              "  </thead>\n",
              "  <tbody>\n",
              "    <tr>\n",
              "      <th>0</th>\n",
              "      <td>KS</td>\n",
              "      <td>128</td>\n",
              "      <td>415</td>\n",
              "      <td>No</td>\n",
              "      <td>Yes</td>\n",
              "      <td>25</td>\n",
              "      <td>265.1</td>\n",
              "      <td>110</td>\n",
              "      <td>45.07</td>\n",
              "      <td>197.4</td>\n",
              "      <td>99</td>\n",
              "      <td>16.78</td>\n",
              "      <td>244.7</td>\n",
              "      <td>91</td>\n",
              "      <td>11.01</td>\n",
              "      <td>10.0</td>\n",
              "      <td>3</td>\n",
              "      <td>2.70</td>\n",
              "      <td>1</td>\n",
              "      <td>False</td>\n",
              "    </tr>\n",
              "    <tr>\n",
              "      <th>1</th>\n",
              "      <td>OH</td>\n",
              "      <td>107</td>\n",
              "      <td>415</td>\n",
              "      <td>No</td>\n",
              "      <td>Yes</td>\n",
              "      <td>26</td>\n",
              "      <td>161.6</td>\n",
              "      <td>123</td>\n",
              "      <td>27.47</td>\n",
              "      <td>195.5</td>\n",
              "      <td>103</td>\n",
              "      <td>16.62</td>\n",
              "      <td>254.4</td>\n",
              "      <td>103</td>\n",
              "      <td>11.45</td>\n",
              "      <td>13.7</td>\n",
              "      <td>3</td>\n",
              "      <td>3.70</td>\n",
              "      <td>1</td>\n",
              "      <td>False</td>\n",
              "    </tr>\n",
              "    <tr>\n",
              "      <th>2</th>\n",
              "      <td>NJ</td>\n",
              "      <td>137</td>\n",
              "      <td>415</td>\n",
              "      <td>No</td>\n",
              "      <td>No</td>\n",
              "      <td>0</td>\n",
              "      <td>243.4</td>\n",
              "      <td>114</td>\n",
              "      <td>41.38</td>\n",
              "      <td>121.2</td>\n",
              "      <td>110</td>\n",
              "      <td>10.30</td>\n",
              "      <td>162.6</td>\n",
              "      <td>104</td>\n",
              "      <td>7.32</td>\n",
              "      <td>12.2</td>\n",
              "      <td>5</td>\n",
              "      <td>3.29</td>\n",
              "      <td>0</td>\n",
              "      <td>False</td>\n",
              "    </tr>\n",
              "    <tr>\n",
              "      <th>3</th>\n",
              "      <td>OH</td>\n",
              "      <td>84</td>\n",
              "      <td>408</td>\n",
              "      <td>Yes</td>\n",
              "      <td>No</td>\n",
              "      <td>0</td>\n",
              "      <td>299.4</td>\n",
              "      <td>71</td>\n",
              "      <td>50.90</td>\n",
              "      <td>61.9</td>\n",
              "      <td>88</td>\n",
              "      <td>5.26</td>\n",
              "      <td>196.9</td>\n",
              "      <td>89</td>\n",
              "      <td>8.86</td>\n",
              "      <td>6.6</td>\n",
              "      <td>7</td>\n",
              "      <td>1.78</td>\n",
              "      <td>2</td>\n",
              "      <td>False</td>\n",
              "    </tr>\n",
              "    <tr>\n",
              "      <th>4</th>\n",
              "      <td>OK</td>\n",
              "      <td>75</td>\n",
              "      <td>415</td>\n",
              "      <td>Yes</td>\n",
              "      <td>No</td>\n",
              "      <td>0</td>\n",
              "      <td>166.7</td>\n",
              "      <td>113</td>\n",
              "      <td>28.34</td>\n",
              "      <td>148.3</td>\n",
              "      <td>122</td>\n",
              "      <td>12.61</td>\n",
              "      <td>186.9</td>\n",
              "      <td>121</td>\n",
              "      <td>8.41</td>\n",
              "      <td>10.1</td>\n",
              "      <td>3</td>\n",
              "      <td>2.73</td>\n",
              "      <td>3</td>\n",
              "      <td>False</td>\n",
              "    </tr>\n",
              "  </tbody>\n",
              "</table>\n",
              "</div>"
            ],
            "text/plain": [
              "  State  acc_length  area_code  ... ttl_intl_chrg cust_servc_calls  Churn\n",
              "0    KS         128        415  ...          2.70                1  False\n",
              "1    OH         107        415  ...          3.70                1  False\n",
              "2    NJ         137        415  ...          3.29                0  False\n",
              "3    OH          84        408  ...          1.78                2  False\n",
              "4    OK          75        415  ...          2.73                3  False\n",
              "\n",
              "[5 rows x 20 columns]"
            ]
          },
          "metadata": {
            "tags": []
          },
          "execution_count": 11
        }
      ]
    },
    {
      "cell_type": "markdown",
      "metadata": {
        "id": "o0U2GUeL7y_t"
      },
      "source": [
        "\n",
        "***INITIAL BRAIN STORMING ON DATA SET***\n",
        "\n",
        "\n",
        "1.   What is the rate of churn as per the given data?\n",
        "2.   Are the churners uniformly distributed over all the states or some states have higher rates than other?\n",
        "3.   Are the churners uniformly distributed over all the are codes ?\n",
        "4.   Correation between Churners and other features ?\n",
        "\n"
      ]
    },
    {
      "cell_type": "code",
      "metadata": {
        "colab": {
          "base_uri": "https://localhost:8080/"
        },
        "id": "dQlG9g2F-SuP",
        "outputId": "de8898fa-6871-4152-ef49-fcf728e9f848"
      },
      "source": [
        "churning_rate = (tele_df[tele_df['Churn']==True]['Churn'].count()/tele_df['Churn'].count())*100\n",
        "print('The rate of churning is',round(churning_rate,2),'%')\n"
      ],
      "execution_count": null,
      "outputs": [
        {
          "output_type": "stream",
          "text": [
            "The rate of churning is 14.49 %\n"
          ],
          "name": "stdout"
        }
      ]
    },
    {
      "cell_type": "code",
      "metadata": {
        "colab": {
          "base_uri": "https://localhost:8080/",
          "height": 409
        },
        "id": "QmuXdDMT_azh",
        "outputId": "9e132466-fea0-496f-fb1e-ac5afd60b079"
      },
      "source": [
        "colors = ['steelblue','darkorange']\n",
        "churn_per = (tele_df['Churn'].value_counts()*100.0 /len(tele_df)).plot(kind='bar',\n",
        "                                                                           stacked = True,\n",
        "                                                                          rot = 0,\n",
        "                                                                          color = colors,\n",
        "                                                                         figsize = (12,6))\n",
        "\n",
        "churn_per.set_ylabel('% Customers',size = 14)\n",
        "churn_per.set_xlabel('Churn',size = 14)\n",
        "churn_per.set_title('Churn Rate', size = 14)\n",
        "churn_per.yaxis.set_major_formatter(mtick.PercentFormatter())\n",
        "\n",
        "# create a list to collect the plt.patches data\n",
        "totals = []\n",
        "\n",
        "# find the values and append to list\n",
        "for i in churn_per.patches:\n",
        "    totals.append(i.get_width())\n",
        "\n",
        "# set individual bar lables using above list\n",
        "total = sum(totals)\n",
        "\n",
        "for i in churn_per.patches:\n",
        "# get_width pulls left or right; get_y pushes up or down\n",
        "    churn_per.text(i.get_x()+.15, i.get_height()-4.0, \\\n",
        "                str(round((i.get_height()/total), 1))+'%',\n",
        "                fontsize=12,\n",
        "                color='white',\n",
        "              weight = 'bold',\n",
        "              size = 14)\n",
        "\n"
      ],
      "execution_count": null,
      "outputs": [
        {
          "output_type": "display_data",
          "data": {
            "image/png": "[encoded data removed]",
            "text/plain": [
              "<Figure size 864x432 with 1 Axes>"
            ]
          },
          "metadata": {
            "tags": [],
            "needs_background": "light"
          }
        }
      ]
    },
    {
      "cell_type": "markdown",
      "metadata": {
        "id": "qOykuj2UAt5m"
      },
      "source": [
        "##   Churn is a one of the biggest problem in the telecom industry. Research has shown that the average yearly churn rate among the top 4 telecom companies in the US is 21%. \n",
        "\n",
        "##  14.5% is actually quite bad for a company; such a churn rate can make the company go bankrupt.\n",
        "\n"
      ]
    },
    {
      "cell_type": "markdown",
      "metadata": {
        "id": "6am7pXJqEfEj"
      },
      "source": [
        "# Find state wise churn distribution , plot bar graph corresponding to it.\n"
      ]
    },
    {
      "cell_type": "code",
      "metadata": {
        "id": "zHLkQHgcDHmz"
      },
      "source": [
        "tele_df1=tele_df[tele_df['Churn']==True].groupby(['State','Churn'],as_index=False).Churn.count()"
      ],
      "execution_count": null,
      "outputs": []
    },
    {
      "cell_type": "code",
      "metadata": {
        "id": "YsV6VosO2CIS"
      },
      "source": [
        "tele_df1['total_count']=tele_df.groupby('State').State.transform('count')"
      ],
      "execution_count": null,
      "outputs": []
    },
    {
      "cell_type": "code",
      "metadata": {
        "id": "x7vPWAJy3CP4"
      },
      "source": [
        "tele_df1['Churn_per']=tele_df1['Churn']/tele_df1['total_count']*100"
      ],
      "execution_count": null,
      "outputs": []
    },
    {
      "cell_type": "code",
      "metadata": {
        "id": "G5StCIVPIEA4"
      },
      "source": [
        "tele_df1.set_index('State',inplace=True)"
      ],
      "execution_count": null,
      "outputs": []
    },
    {
      "cell_type": "markdown",
      "metadata": {
        "id": "vwqQn-mR9SQW"
      },
      "source": [
        "* Narrowing down our scope and identifying critical states with maximum churn rate.  \n",
        "* Study has been conducted on top 35 states which contributes 80% of the churners\n",
        "\n",
        "\n"
      ]
    },
    {
      "cell_type": "code",
      "metadata": {
        "colab": {
          "base_uri": "https://localhost:8080/",
          "height": 675
        },
        "id": "Hq5A6w1QyWN1",
        "outputId": "632713ca-4bc7-41b3-8afd-e26a9076d097"
      },
      "source": [
        "plt.rcParams['figure.figsize'] = (20, 10)\n",
        "# plt.plot(df1.nlargest(51,'Churn'))\n",
        "\n",
        "tele_df1[['Churn_per']].nlargest(35,'Churn_per').plot(kind='bar')\n",
        "plt.title('Chrun distribution on State ', fontsize=20)\n",
        "plt.xlabel('State',fontsize=20)\n",
        "plt.ylabel('Churn Customer Count (%)',fontsize=20)\n",
        "\n",
        "total_sum = tele_df1[['Churn']].nlargest(35,'Churn').sum()\n",
        "percent = total_sum/tele_df1['Churn'].sum()*100\n",
        "print(percent)"
      ],
      "execution_count": null,
      "outputs": [
        {
          "output_type": "stream",
          "text": [
            "Churn    83.022774\n",
            "dtype: float64\n"
          ],
          "name": "stdout"
        },
        {
          "output_type": "display_data",
          "data": {
            "image/png": "[encoded data removed]",
            "text/plain": [
              "<Figure size 1440x720 with 1 Axes>"
            ]
          },
          "metadata": {
            "tags": [],
            "needs_background": "light"
          }
        }
      ]
    },
    {
      "cell_type": "code",
      "metadata": {
        "colab": {
          "base_uri": "https://localhost:8080/",
          "height": 212
        },
        "id": "p2J-7u7zEC8W",
        "outputId": "4338bd4e-f095-49d7-a0ea-eb40512780a4"
      },
      "source": [
        "plt.figure(figsize=(20,10)\n",
        "tele_df.corr()['Churn'].sort_values(ascending = False).plot(kind='bar', color = 'steelblue')\n"
      ],
      "execution_count": null,
      "outputs": [
        {
          "output_type": "error",
          "ename": "AttributeError",
          "evalue": "ignored",
          "traceback": [
            "\u001b[0;31m---------------------------------------------------------------------------\u001b[0m",
            "\u001b[0;31mAttributeError\u001b[0m                            Traceback (most recent call last)",
            "\u001b[0;32m<ipython-input-34-dde5304de8ae>\u001b[0m in \u001b[0;36m<module>\u001b[0;34m()\u001b[0m\n\u001b[1;32m      1\u001b[0m \u001b[0mplt\u001b[0m\u001b[0;34m.\u001b[0m\u001b[0mfigure\u001b[0m\u001b[0;34m(\u001b[0m\u001b[0mfigsize\u001b[0m\u001b[0;34m=\u001b[0m\u001b[0;34m(\u001b[0m\u001b[0;36m20\u001b[0m\u001b[0;34m,\u001b[0m\u001b[0;36m10\u001b[0m\u001b[0;34m)\u001b[0m\u001b[0;34m)\u001b[0m\u001b[0;34m\u001b[0m\u001b[0;34m\u001b[0m\u001b[0m\n\u001b[0;32m----> 2\u001b[0;31m \u001b[0mplt\u001b[0m\u001b[0;34m.\u001b[0m\u001b[0mset_xticklabel\u001b[0m\u001b[0;34m(\u001b[0m\u001b[0;34m[\u001b[0m\u001b[0;34m'a'\u001b[0m\u001b[0;34m,\u001b[0m\u001b[0;34m'a'\u001b[0m\u001b[0;34m,\u001b[0m\u001b[0;34m'a'\u001b[0m\u001b[0;34m,\u001b[0m\u001b[0;34m'a'\u001b[0m\u001b[0;34m,\u001b[0m\u001b[0;34m'a'\u001b[0m\u001b[0;34m,\u001b[0m\u001b[0;34m'a'\u001b[0m\u001b[0;34m,\u001b[0m\u001b[0;34m'a'\u001b[0m\u001b[0;34m,\u001b[0m\u001b[0;34m'a'\u001b[0m\u001b[0;34m,\u001b[0m\u001b[0;34m'a'\u001b[0m\u001b[0;34m,\u001b[0m\u001b[0;34m'a'\u001b[0m\u001b[0;34m,\u001b[0m\u001b[0;34m'a'\u001b[0m\u001b[0;34m,\u001b[0m\u001b[0;34m'a'\u001b[0m\u001b[0;34m,\u001b[0m\u001b[0;34m'a'\u001b[0m\u001b[0;34m,\u001b[0m\u001b[0;34m'a'\u001b[0m\u001b[0;34m,\u001b[0m\u001b[0;34m'a'\u001b[0m\u001b[0;34m,\u001b[0m\u001b[0;34m'a'\u001b[0m\u001b[0;34m,\u001b[0m\u001b[0;34m'a'\u001b[0m\u001b[0;34m,\u001b[0m\u001b[0;34m]\u001b[0m\u001b[0;34m)\u001b[0m\u001b[0;34m\u001b[0m\u001b[0;34m\u001b[0m\u001b[0m\n\u001b[0m\u001b[1;32m      3\u001b[0m \u001b[0mtele_df\u001b[0m\u001b[0;34m.\u001b[0m\u001b[0mcorr\u001b[0m\u001b[0;34m(\u001b[0m\u001b[0;34m)\u001b[0m\u001b[0;34m[\u001b[0m\u001b[0;34m'Churn'\u001b[0m\u001b[0;34m]\u001b[0m\u001b[0;34m.\u001b[0m\u001b[0msort_values\u001b[0m\u001b[0;34m(\u001b[0m\u001b[0mascending\u001b[0m \u001b[0;34m=\u001b[0m \u001b[0;32mFalse\u001b[0m\u001b[0;34m)\u001b[0m\u001b[0;34m.\u001b[0m\u001b[0mplot\u001b[0m\u001b[0;34m(\u001b[0m\u001b[0mkind\u001b[0m\u001b[0;34m=\u001b[0m\u001b[0;34m'bar'\u001b[0m\u001b[0;34m,\u001b[0m \u001b[0mcolor\u001b[0m \u001b[0;34m=\u001b[0m \u001b[0;34m'steelblue'\u001b[0m\u001b[0;34m)\u001b[0m\u001b[0;34m\u001b[0m\u001b[0;34m\u001b[0m\u001b[0m\n",
            "\u001b[0;31mAttributeError\u001b[0m: module 'matplotlib.pyplot' has no attribute 'set_xticklabel'"
          ]
        },
        {
          "output_type": "display_data",
          "data": {
            "text/plain": [
              "<Figure size 1440x720 with 0 Axes>"
            ]
          },
          "metadata": {
            "tags": []
          }
        }
      ]
    },
    {
      "cell_type": "code",
      "metadata": {
        "colab": {
          "base_uri": "https://localhost:8080/"
        },
        "id": "gyOz8De26qzo",
        "outputId": "d7205d78-6547-4478-906c-5ffcdc3e8b4a"
      },
      "source": [
        "df12=tele_df[tele_df['Churn']==True]\n",
        "# df12.corr()['Churn'].sort_values(ascending = False).plot(kind='bar', color = 'midnightblue')\n",
        "df12.shape"
      ],
      "execution_count": null,
      "outputs": [
        {
          "output_type": "execute_result",
          "data": {
            "text/plain": [
              "(483, 21)"
            ]
          },
          "metadata": {
            "tags": []
          },
          "execution_count": 546
        }
      ]
    },
    {
      "cell_type": "markdown",
      "metadata": {
        "id": "70O1ZNFuDTXC"
      },
      "source": [
        "# Charge per minute of Churn and non  Churn Customer"
      ]
    },
    {
      "cell_type": "code",
      "metadata": {
        "id": "xwSqEamVKDFq"
      },
      "source": [
        "tele_df['charge_per_min_day'] =tele_df['Total day charge']/tele_df['Total day minutes']\n",
        "tele_df['charge_per_min_eve'] =tele_df['Total eve charge']/tele_df['Total eve minutes']\n",
        "tele_df['charge_per_min_night'] =tele_df['Total night charge']/tele_df['Total night minutes']"
      ],
      "execution_count": null,
      "outputs": []
    },
    {
      "cell_type": "code",
      "metadata": {
        "colab": {
          "base_uri": "https://localhost:8080/"
        },
        "id": "MT9w9B8e-p5Y",
        "outputId": "21dd6ad5-72b6-42c8-e7b4-caa6e559161e"
      },
      "source": [
        "# For non churn customer\n",
        "chrg_p_min_day_mean = tele_df[tele_df['Churn']==False]['charge_per_min_day'].mean()\n",
        "chrg_p_min_eve_mean = tele_df[tele_df['Churn']==False]['charge_per_min_eve'].mean()\n",
        "chrg_p_min_night_mean = tele_df[tele_df['Churn']==False]['charge_per_min_night'].mean()\n",
        "print(chrg_p_min_day_mean,chrg_p_min_eve_mean,chrg_p_min_night_mean)"
      ],
      "execution_count": null,
      "outputs": [
        {
          "output_type": "stream",
          "text": [
            "0.17000331531507384 0.08500123332733626 0.0450003662063208\n"
          ],
          "name": "stdout"
        }
      ]
    },
    {
      "cell_type": "code",
      "metadata": {
        "colab": {
          "base_uri": "https://localhost:8080/"
        },
        "id": "S4B6NB_aDMeQ",
        "outputId": "5b050d90-3fd0-43ad-ea1a-8343a093da4b"
      },
      "source": [
        "#For Churn customer\n",
        "chrg_p_min_day_mean = tele_df[tele_df['Churn']==True]['charge_per_min_day'].mean()\n",
        "chrg_p_min_eve_mean = tele_df[tele_df['Churn']==True]['charge_per_min_eve'].mean()\n",
        "chrg_p_min_night_mean = tele_df[tele_df['Churn']==True]['charge_per_min_night'].mean()\n",
        "print(chrg_p_min_day_mean,chrg_p_min_eve_mean,chrg_p_min_night_mean)"
      ],
      "execution_count": null,
      "outputs": [
        {
          "output_type": "stream",
          "text": [
            "0.17000275572453427 0.08500081707432333 0.0450002247152355\n"
          ],
          "name": "stdout"
        }
      ]
    },
    {
      "cell_type": "markdown",
      "metadata": {
        "id": "cqu8p6EDGOO4"
      },
      "source": [
        "**There is no difference between charge per minute for churn and non churn customer**"
      ]
    },
    {
      "cell_type": "code",
      "metadata": {
        "colab": {
          "base_uri": "https://localhost:8080/",
          "height": 314
        },
        "id": "tmC9a7IrHWza",
        "outputId": "ac6f00b9-ac75-415f-da9c-580f4f264279"
      },
      "source": [
        "\n",
        "fig, ax = plt.subplots()\n",
        "\n",
        "a_heights, a_bins = np.histogram(tele_df[tele_df['Churn']==True]['acc_length'])\n",
        "b_heights, b_bins = np.histogram(tele_df[tele_df['Churn']==False]['acc_length'], bins=a_bins)\n",
        "\n",
        "width = (a_bins[1] - a_bins[0])/3\n",
        "\n",
        "ax.bar(a_bins[:-1], a_heights, width=width, facecolor='steelblue')\n",
        "ax.bar(b_bins[:-1]+width, b_heights, width=width, facecolor='darkorange')\n",
        "ax.legend()\n",
        "plt.title('Histogram plot for account length')"
      ],
      "execution_count": null,
      "outputs": [
        {
          "output_type": "stream",
          "text": [
            "No handles with labels found to put in legend.\n"
          ],
          "name": "stderr"
        },
        {
          "output_type": "execute_result",
          "data": {
            "text/plain": [
              "Text(0.5, 1.0, 'Histogram plot for account length')"
            ]
          },
          "metadata": {
            "tags": []
          },
          "execution_count": 20
        },
        {
          "output_type": "display_data",
          "data": {
            "image/png": "[encoded data removed]",
            "text/plain": [
              "<Figure size 432x288 with 1 Axes>"
            ]
          },
          "metadata": {
            "tags": [],
            "needs_background": "light"
          }
        }
      ]
    },
    {
      "cell_type": "code",
      "metadata": {
        "colab": {
          "base_uri": "https://localhost:8080/",
          "height": 729
        },
        "id": "fa5uYVTHLs8T",
        "outputId": "fbde030e-8e6b-4303-d436-9521bf2b06f5"
      },
      "source": [
        "tele_df.boxplot(column='acc_length', by='Churn')\n"
      ],
      "execution_count": null,
      "outputs": [
        {
          "output_type": "stream",
          "text": [
            "/usr/local/lib/python3.7/dist-packages/numpy/core/_asarray.py:83: VisibleDeprecationWarning: Creating an ndarray from ragged nested sequences (which is a list-or-tuple of lists-or-tuples-or ndarrays with different lengths or shapes) is deprecated. If you meant to do this, you must specify 'dtype=object' when creating the ndarray\n",
            "  return array(a, dtype, copy=False, order=order)\n"
          ],
          "name": "stderr"
        },
        {
          "output_type": "execute_result",
          "data": {
            "text/plain": [
              "<matplotlib.axes._subplots.AxesSubplot at 0x7f03f818ed90>"
            ]
          },
          "metadata": {
            "tags": []
          },
          "execution_count": 492
        },
        {
          "output_type": "display_data",
          "data": {
            "image/png": "[encoded data removed]",
            "text/plain": [
              "<Figure size 1440x720 with 1 Axes>"
            ]
          },
          "metadata": {
            "tags": [],
            "needs_background": "light"
          }
        }
      ]
    },
    {
      "cell_type": "markdown",
      "metadata": {
        "id": "fw3kLXlNPLTE"
      },
      "source": [
        "**We did not get any inference from the “Histogram” therefore we plotted “BOX plot” and we reached to a conclusion that median of account length was higher for Churners. This depicts that the customers with higher account length are leaving after experiencing poor services.\n",
        "More focus should be done on longer account length customers as they might become the loyal customers if served properly.**\n"
      ]
    },
    {
      "cell_type": "code",
      "metadata": {
        "id": "8di3oXhPVdEd"
      },
      "source": [
        "tdf_CT=tdf1[tdf1['Churn']==True]"
      ],
      "execution_count": null,
      "outputs": []
    },
    {
      "cell_type": "code",
      "metadata": {
        "id": "cFbBOhWcYQYO"
      },
      "source": [
        "tdf_CF=tdf1[tdf1['Churn']==False]"
      ],
      "execution_count": null,
      "outputs": []
    },
    {
      "cell_type": "code",
      "metadata": {
        "colab": {
          "base_uri": "https://localhost:8080/",
          "height": 314
        },
        "id": "C7l6q-UjYa0c",
        "outputId": "6520d2c7-97e4-4d0a-ea6d-51a41a7a92d7"
      },
      "source": [
        "tdf_CT.describe()"
      ],
      "execution_count": null,
      "outputs": [
        {
          "output_type": "execute_result",
          "data": {
            "text/html": [
              "<div>\n",
              "<style scoped>\n",
              "    .dataframe tbody tr th:only-of-type {\n",
              "        vertical-align: middle;\n",
              "    }\n",
              "\n",
              "    .dataframe tbody tr th {\n",
              "        vertical-align: top;\n",
              "    }\n",
              "\n",
              "    .dataframe thead th {\n",
              "        text-align: right;\n",
              "    }\n",
              "</style>\n",
              "<table border=\"1\" class=\"dataframe\">\n",
              "  <thead>\n",
              "    <tr style=\"text-align: right;\">\n",
              "      <th></th>\n",
              "      <th>acc_length</th>\n",
              "      <th>area_code</th>\n",
              "      <th>num_vmail_msg</th>\n",
              "      <th>ttl_day_min</th>\n",
              "      <th>ttl_day_calls</th>\n",
              "      <th>ttl_day_chrg</th>\n",
              "      <th>ttl_eve_min</th>\n",
              "      <th>ttl_eve_calls</th>\n",
              "      <th>ttl_eve_chrg</th>\n",
              "      <th>ttl_nyt_min</th>\n",
              "      <th>ttl_nyt_calls</th>\n",
              "      <th>ttl_nyt_chrg</th>\n",
              "      <th>ttl_intl_min</th>\n",
              "      <th>ttl_intl_calls</th>\n",
              "      <th>ttl_intl_chrg</th>\n",
              "      <th>cust_servc_calls</th>\n",
              "    </tr>\n",
              "  </thead>\n",
              "  <tbody>\n",
              "    <tr>\n",
              "      <th>count</th>\n",
              "      <td>483.000000</td>\n",
              "      <td>483.000000</td>\n",
              "      <td>483.000000</td>\n",
              "      <td>483.000000</td>\n",
              "      <td>483.000000</td>\n",
              "      <td>483.000000</td>\n",
              "      <td>483.000000</td>\n",
              "      <td>483.000000</td>\n",
              "      <td>483.000000</td>\n",
              "      <td>483.000000</td>\n",
              "      <td>483.000000</td>\n",
              "      <td>483.000000</td>\n",
              "      <td>483.00000</td>\n",
              "      <td>483.000000</td>\n",
              "      <td>483.000000</td>\n",
              "      <td>483.000000</td>\n",
              "    </tr>\n",
              "    <tr>\n",
              "      <th>mean</th>\n",
              "      <td>102.664596</td>\n",
              "      <td>437.817805</td>\n",
              "      <td>5.115942</td>\n",
              "      <td>206.914079</td>\n",
              "      <td>101.335404</td>\n",
              "      <td>35.175921</td>\n",
              "      <td>212.410145</td>\n",
              "      <td>100.561077</td>\n",
              "      <td>18.054969</td>\n",
              "      <td>205.231677</td>\n",
              "      <td>100.399586</td>\n",
              "      <td>9.235528</td>\n",
              "      <td>10.70000</td>\n",
              "      <td>4.163561</td>\n",
              "      <td>2.889545</td>\n",
              "      <td>2.229814</td>\n",
              "    </tr>\n",
              "    <tr>\n",
              "      <th>std</th>\n",
              "      <td>39.467820</td>\n",
              "      <td>42.792270</td>\n",
              "      <td>11.860138</td>\n",
              "      <td>68.997792</td>\n",
              "      <td>21.582307</td>\n",
              "      <td>11.729710</td>\n",
              "      <td>51.728910</td>\n",
              "      <td>19.724711</td>\n",
              "      <td>4.396762</td>\n",
              "      <td>47.132825</td>\n",
              "      <td>19.950659</td>\n",
              "      <td>2.121081</td>\n",
              "      <td>2.79319</td>\n",
              "      <td>2.551575</td>\n",
              "      <td>0.754152</td>\n",
              "      <td>1.853275</td>\n",
              "    </tr>\n",
              "    <tr>\n",
              "      <th>min</th>\n",
              "      <td>1.000000</td>\n",
              "      <td>408.000000</td>\n",
              "      <td>0.000000</td>\n",
              "      <td>0.000000</td>\n",
              "      <td>0.000000</td>\n",
              "      <td>0.000000</td>\n",
              "      <td>70.900000</td>\n",
              "      <td>48.000000</td>\n",
              "      <td>6.030000</td>\n",
              "      <td>47.400000</td>\n",
              "      <td>49.000000</td>\n",
              "      <td>2.130000</td>\n",
              "      <td>2.00000</td>\n",
              "      <td>1.000000</td>\n",
              "      <td>0.540000</td>\n",
              "      <td>0.000000</td>\n",
              "    </tr>\n",
              "    <tr>\n",
              "      <th>25%</th>\n",
              "      <td>76.000000</td>\n",
              "      <td>408.000000</td>\n",
              "      <td>0.000000</td>\n",
              "      <td>153.250000</td>\n",
              "      <td>87.500000</td>\n",
              "      <td>26.055000</td>\n",
              "      <td>177.100000</td>\n",
              "      <td>87.000000</td>\n",
              "      <td>15.055000</td>\n",
              "      <td>171.250000</td>\n",
              "      <td>85.000000</td>\n",
              "      <td>7.705000</td>\n",
              "      <td>8.80000</td>\n",
              "      <td>2.000000</td>\n",
              "      <td>2.380000</td>\n",
              "      <td>1.000000</td>\n",
              "    </tr>\n",
              "    <tr>\n",
              "      <th>50%</th>\n",
              "      <td>103.000000</td>\n",
              "      <td>415.000000</td>\n",
              "      <td>0.000000</td>\n",
              "      <td>217.600000</td>\n",
              "      <td>103.000000</td>\n",
              "      <td>36.990000</td>\n",
              "      <td>211.300000</td>\n",
              "      <td>101.000000</td>\n",
              "      <td>17.960000</td>\n",
              "      <td>204.800000</td>\n",
              "      <td>100.000000</td>\n",
              "      <td>9.220000</td>\n",
              "      <td>10.60000</td>\n",
              "      <td>4.000000</td>\n",
              "      <td>2.860000</td>\n",
              "      <td>2.000000</td>\n",
              "    </tr>\n",
              "    <tr>\n",
              "      <th>75%</th>\n",
              "      <td>127.000000</td>\n",
              "      <td>510.000000</td>\n",
              "      <td>0.000000</td>\n",
              "      <td>265.950000</td>\n",
              "      <td>116.500000</td>\n",
              "      <td>45.210000</td>\n",
              "      <td>249.450000</td>\n",
              "      <td>114.000000</td>\n",
              "      <td>21.205000</td>\n",
              "      <td>239.850000</td>\n",
              "      <td>115.000000</td>\n",
              "      <td>10.795000</td>\n",
              "      <td>12.80000</td>\n",
              "      <td>5.000000</td>\n",
              "      <td>3.460000</td>\n",
              "      <td>4.000000</td>\n",
              "    </tr>\n",
              "    <tr>\n",
              "      <th>max</th>\n",
              "      <td>225.000000</td>\n",
              "      <td>510.000000</td>\n",
              "      <td>48.000000</td>\n",
              "      <td>350.800000</td>\n",
              "      <td>165.000000</td>\n",
              "      <td>59.640000</td>\n",
              "      <td>363.700000</td>\n",
              "      <td>168.000000</td>\n",
              "      <td>30.910000</td>\n",
              "      <td>354.900000</td>\n",
              "      <td>158.000000</td>\n",
              "      <td>15.970000</td>\n",
              "      <td>20.00000</td>\n",
              "      <td>20.000000</td>\n",
              "      <td>5.400000</td>\n",
              "      <td>9.000000</td>\n",
              "    </tr>\n",
              "  </tbody>\n",
              "</table>\n",
              "</div>"
            ],
            "text/plain": [
              "       acc_length   area_code  ...  ttl_intl_chrg  cust_servc_calls\n",
              "count  483.000000  483.000000  ...     483.000000        483.000000\n",
              "mean   102.664596  437.817805  ...       2.889545          2.229814\n",
              "std     39.467820   42.792270  ...       0.754152          1.853275\n",
              "min      1.000000  408.000000  ...       0.540000          0.000000\n",
              "25%     76.000000  408.000000  ...       2.380000          1.000000\n",
              "50%    103.000000  415.000000  ...       2.860000          2.000000\n",
              "75%    127.000000  510.000000  ...       3.460000          4.000000\n",
              "max    225.000000  510.000000  ...       5.400000          9.000000\n",
              "\n",
              "[8 rows x 16 columns]"
            ]
          },
          "metadata": {
            "tags": []
          },
          "execution_count": 268
        }
      ]
    },
    {
      "cell_type": "code",
      "metadata": {
        "colab": {
          "base_uri": "https://localhost:8080/",
          "height": 314
        },
        "id": "-NEnfWhXYd93",
        "outputId": "981a13ac-fb7e-4edb-b6d5-6548c76cc0fd"
      },
      "source": [
        "tdf_CF.describe()"
      ],
      "execution_count": null,
      "outputs": [
        {
          "output_type": "execute_result",
          "data": {
            "text/html": [
              "<div>\n",
              "<style scoped>\n",
              "    .dataframe tbody tr th:only-of-type {\n",
              "        vertical-align: middle;\n",
              "    }\n",
              "\n",
              "    .dataframe tbody tr th {\n",
              "        vertical-align: top;\n",
              "    }\n",
              "\n",
              "    .dataframe thead th {\n",
              "        text-align: right;\n",
              "    }\n",
              "</style>\n",
              "<table border=\"1\" class=\"dataframe\">\n",
              "  <thead>\n",
              "    <tr style=\"text-align: right;\">\n",
              "      <th></th>\n",
              "      <th>acc_length</th>\n",
              "      <th>area_code</th>\n",
              "      <th>num_vmail_msg</th>\n",
              "      <th>ttl_day_min</th>\n",
              "      <th>ttl_day_calls</th>\n",
              "      <th>ttl_day_chrg</th>\n",
              "      <th>ttl_eve_min</th>\n",
              "      <th>ttl_eve_calls</th>\n",
              "      <th>ttl_eve_chrg</th>\n",
              "      <th>ttl_nyt_min</th>\n",
              "      <th>ttl_nyt_calls</th>\n",
              "      <th>ttl_nyt_chrg</th>\n",
              "      <th>ttl_intl_min</th>\n",
              "      <th>ttl_intl_calls</th>\n",
              "      <th>ttl_intl_chrg</th>\n",
              "      <th>cust_servc_calls</th>\n",
              "    </tr>\n",
              "  </thead>\n",
              "  <tbody>\n",
              "    <tr>\n",
              "      <th>count</th>\n",
              "      <td>2850.000000</td>\n",
              "      <td>2850.000000</td>\n",
              "      <td>2850.000000</td>\n",
              "      <td>2850.000000</td>\n",
              "      <td>2850.000000</td>\n",
              "      <td>2850.000000</td>\n",
              "      <td>2850.000000</td>\n",
              "      <td>2850.000000</td>\n",
              "      <td>2850.000000</td>\n",
              "      <td>2850.000000</td>\n",
              "      <td>2850.000000</td>\n",
              "      <td>2850.000000</td>\n",
              "      <td>2850.000000</td>\n",
              "      <td>2850.000000</td>\n",
              "      <td>2850.000000</td>\n",
              "      <td>2850.000000</td>\n",
              "    </tr>\n",
              "    <tr>\n",
              "      <th>mean</th>\n",
              "      <td>100.793684</td>\n",
              "      <td>437.074737</td>\n",
              "      <td>8.604561</td>\n",
              "      <td>175.175754</td>\n",
              "      <td>100.283158</td>\n",
              "      <td>29.780421</td>\n",
              "      <td>199.043298</td>\n",
              "      <td>100.038596</td>\n",
              "      <td>16.918909</td>\n",
              "      <td>200.133193</td>\n",
              "      <td>100.058246</td>\n",
              "      <td>9.006074</td>\n",
              "      <td>10.158877</td>\n",
              "      <td>4.532982</td>\n",
              "      <td>2.743404</td>\n",
              "      <td>1.449825</td>\n",
              "    </tr>\n",
              "    <tr>\n",
              "      <th>std</th>\n",
              "      <td>39.882350</td>\n",
              "      <td>42.306156</td>\n",
              "      <td>13.913125</td>\n",
              "      <td>50.181655</td>\n",
              "      <td>19.801157</td>\n",
              "      <td>8.530835</td>\n",
              "      <td>50.292175</td>\n",
              "      <td>19.958414</td>\n",
              "      <td>4.274863</td>\n",
              "      <td>51.105032</td>\n",
              "      <td>19.506246</td>\n",
              "      <td>2.299768</td>\n",
              "      <td>2.784489</td>\n",
              "      <td>2.441984</td>\n",
              "      <td>0.751784</td>\n",
              "      <td>1.163883</td>\n",
              "    </tr>\n",
              "    <tr>\n",
              "      <th>min</th>\n",
              "      <td>1.000000</td>\n",
              "      <td>408.000000</td>\n",
              "      <td>0.000000</td>\n",
              "      <td>0.000000</td>\n",
              "      <td>0.000000</td>\n",
              "      <td>0.000000</td>\n",
              "      <td>0.000000</td>\n",
              "      <td>0.000000</td>\n",
              "      <td>0.000000</td>\n",
              "      <td>23.200000</td>\n",
              "      <td>33.000000</td>\n",
              "      <td>1.040000</td>\n",
              "      <td>0.000000</td>\n",
              "      <td>0.000000</td>\n",
              "      <td>0.000000</td>\n",
              "      <td>0.000000</td>\n",
              "    </tr>\n",
              "    <tr>\n",
              "      <th>25%</th>\n",
              "      <td>73.000000</td>\n",
              "      <td>408.000000</td>\n",
              "      <td>0.000000</td>\n",
              "      <td>142.825000</td>\n",
              "      <td>87.000000</td>\n",
              "      <td>24.282500</td>\n",
              "      <td>164.500000</td>\n",
              "      <td>87.000000</td>\n",
              "      <td>13.980000</td>\n",
              "      <td>165.900000</td>\n",
              "      <td>87.000000</td>\n",
              "      <td>7.470000</td>\n",
              "      <td>8.400000</td>\n",
              "      <td>3.000000</td>\n",
              "      <td>2.270000</td>\n",
              "      <td>1.000000</td>\n",
              "    </tr>\n",
              "    <tr>\n",
              "      <th>50%</th>\n",
              "      <td>100.000000</td>\n",
              "      <td>415.000000</td>\n",
              "      <td>0.000000</td>\n",
              "      <td>177.200000</td>\n",
              "      <td>100.000000</td>\n",
              "      <td>30.120000</td>\n",
              "      <td>199.600000</td>\n",
              "      <td>100.000000</td>\n",
              "      <td>16.970000</td>\n",
              "      <td>200.250000</td>\n",
              "      <td>100.000000</td>\n",
              "      <td>9.010000</td>\n",
              "      <td>10.200000</td>\n",
              "      <td>4.000000</td>\n",
              "      <td>2.750000</td>\n",
              "      <td>1.000000</td>\n",
              "    </tr>\n",
              "    <tr>\n",
              "      <th>75%</th>\n",
              "      <td>127.000000</td>\n",
              "      <td>510.000000</td>\n",
              "      <td>22.000000</td>\n",
              "      <td>210.300000</td>\n",
              "      <td>114.000000</td>\n",
              "      <td>35.750000</td>\n",
              "      <td>233.200000</td>\n",
              "      <td>114.000000</td>\n",
              "      <td>19.820000</td>\n",
              "      <td>234.900000</td>\n",
              "      <td>113.000000</td>\n",
              "      <td>10.570000</td>\n",
              "      <td>12.000000</td>\n",
              "      <td>6.000000</td>\n",
              "      <td>3.240000</td>\n",
              "      <td>2.000000</td>\n",
              "    </tr>\n",
              "    <tr>\n",
              "      <th>max</th>\n",
              "      <td>243.000000</td>\n",
              "      <td>510.000000</td>\n",
              "      <td>51.000000</td>\n",
              "      <td>315.600000</td>\n",
              "      <td>163.000000</td>\n",
              "      <td>53.650000</td>\n",
              "      <td>361.800000</td>\n",
              "      <td>170.000000</td>\n",
              "      <td>30.750000</td>\n",
              "      <td>395.000000</td>\n",
              "      <td>175.000000</td>\n",
              "      <td>17.770000</td>\n",
              "      <td>18.900000</td>\n",
              "      <td>19.000000</td>\n",
              "      <td>5.100000</td>\n",
              "      <td>8.000000</td>\n",
              "    </tr>\n",
              "  </tbody>\n",
              "</table>\n",
              "</div>"
            ],
            "text/plain": [
              "        acc_length    area_code  ...  ttl_intl_chrg  cust_servc_calls\n",
              "count  2850.000000  2850.000000  ...    2850.000000       2850.000000\n",
              "mean    100.793684   437.074737  ...       2.743404          1.449825\n",
              "std      39.882350    42.306156  ...       0.751784          1.163883\n",
              "min       1.000000   408.000000  ...       0.000000          0.000000\n",
              "25%      73.000000   408.000000  ...       2.270000          1.000000\n",
              "50%     100.000000   415.000000  ...       2.750000          1.000000\n",
              "75%     127.000000   510.000000  ...       3.240000          2.000000\n",
              "max     243.000000   510.000000  ...       5.100000          8.000000\n",
              "\n",
              "[8 rows x 16 columns]"
            ]
          },
          "metadata": {
            "tags": []
          },
          "execution_count": 269
        }
      ]
    },
    {
      "cell_type": "code",
      "metadata": {
        "id": "SaNTQqzsYhyx"
      },
      "source": [
        "#                   acc_length\tarea_code\t  num_vmail_msg\t  ttl_day_min\t ttl_day_calls\tttl_day_chrg\tttl_eve_min\t  ttl_eve_calls\t ttl_eve_chrg\t ttl_nyt_min\tttl_nyt_calls\t ttl_nyt_chrg\t ttl_intl_min\t ttl_intl_calls\t ttl_intl_chrg\tcust_servc_calls\n",
        "\n",
        "# mean_churn False\t100.793684\t437.074737\t8.604561\t      175.175754\t 100.283158\t    29.780421\t    199.043298\t  100.038596\t   16.918909\t   200.133193\t   100.058246\t   9.006074\t     10.158877\t   4.532982\t       2.743404\t       1.449825\n",
        "\n",
        "# mean_churn True \t102.664596\t437.817805\t5.115942\t      206.914079\t 101.335404\t    35.175921\t    212.410145\t  100.561077\t   18.054969\t   205.231677\t   100.399586\t    9.235528\t   10.70000\t     4.163561\t       2.889545\t       2.229814\n"
      ],
      "execution_count": null,
      "outputs": []
    },
    {
      "cell_type": "markdown",
      "metadata": {
        "id": "N0Smjz3IcfUK"
      },
      "source": [
        "Observation from above data:-\n",
        "\n",
        "2.they are making more day calls then other timeline (in number of calls)\n",
        "\n",
        "3.their call duration for daytime is more as compare to other timeline (in minutes)\n",
        "\n",
        "4.loyal customer prefer voice mail more than churning customer(when network is busy)"
      ]
    },
    {
      "cell_type": "code",
      "metadata": {
        "id": "V4xqjyjjz6jt"
      },
      "source": [
        "# plt.hist(tdf1['ttl_eve_min'])\n",
        "# plt.hist(tdf1['ttl_nyt_min'])\n",
        "# plt.hist(tdf1[tdf1['Churn']==True]['acc_length'])\n",
        "# plt.hist(tdf1[tdf1['Churn']==False]['acc_length'])\n",
        "# plt.hist(tdf1[tdf1['Churn']==False]['ttl_day_min'])\n",
        "# plt.hist(tdf1[tdf1['Churn']==False]['ttl_eve_min'])\n",
        "# plt.hist(tdf1['ttl_day_min'])"
      ],
      "execution_count": null,
      "outputs": []
    },
    {
      "cell_type": "code",
      "metadata": {
        "id": "V-9b7N9kfo9_"
      },
      "source": [
        "tdf_CT_VT=tdf_CT[tdf_CT['voice_mail_plan']=='Yes']\n",
        "tdf_CT_VF=tdf_CT[tdf_CT['voice_mail_plan']=='No']"
      ],
      "execution_count": null,
      "outputs": []
    },
    {
      "cell_type": "code",
      "metadata": {
        "id": "2jiRwGgTscJB"
      },
      "source": [
        "tdf_CF_VF=tdf_CF[tdf_CF['voice_mail_plan']=='No']\n",
        "tdf_CF_VT=tdf_CF[tdf_CF['voice_mail_plan']=='Yes']"
      ],
      "execution_count": null,
      "outputs": []
    },
    {
      "cell_type": "code",
      "metadata": {
        "colab": {
          "base_uri": "https://localhost:8080/",
          "height": 314
        },
        "id": "gnifs6VXsoe_",
        "outputId": "10b87867-878c-4292-dfed-f95f8d5530ce"
      },
      "source": [
        "tdf_CF_VF.describe()"
      ],
      "execution_count": null,
      "outputs": [
        {
          "output_type": "execute_result",
          "data": {
            "text/html": [
              "<div>\n",
              "<style scoped>\n",
              "    .dataframe tbody tr th:only-of-type {\n",
              "        vertical-align: middle;\n",
              "    }\n",
              "\n",
              "    .dataframe tbody tr th {\n",
              "        vertical-align: top;\n",
              "    }\n",
              "\n",
              "    .dataframe thead th {\n",
              "        text-align: right;\n",
              "    }\n",
              "</style>\n",
              "<table border=\"1\" class=\"dataframe\">\n",
              "  <thead>\n",
              "    <tr style=\"text-align: right;\">\n",
              "      <th></th>\n",
              "      <th>acc_length</th>\n",
              "      <th>area_code</th>\n",
              "      <th>num_vmail_msg</th>\n",
              "      <th>ttl_day_min</th>\n",
              "      <th>ttl_day_calls</th>\n",
              "      <th>ttl_day_chrg</th>\n",
              "      <th>ttl_eve_min</th>\n",
              "      <th>ttl_eve_calls</th>\n",
              "      <th>ttl_eve_chrg</th>\n",
              "      <th>ttl_nyt_min</th>\n",
              "      <th>ttl_nyt_calls</th>\n",
              "      <th>ttl_nyt_chrg</th>\n",
              "      <th>ttl_intl_min</th>\n",
              "      <th>ttl_intl_calls</th>\n",
              "      <th>ttl_intl_chrg</th>\n",
              "      <th>cust_servc_calls</th>\n",
              "    </tr>\n",
              "  </thead>\n",
              "  <tbody>\n",
              "    <tr>\n",
              "      <th>count</th>\n",
              "      <td>2008.000000</td>\n",
              "      <td>2008.000000</td>\n",
              "      <td>2008.0</td>\n",
              "      <td>2008.000000</td>\n",
              "      <td>2008.000000</td>\n",
              "      <td>2008.000000</td>\n",
              "      <td>2008.000000</td>\n",
              "      <td>2008.000000</td>\n",
              "      <td>2008.000000</td>\n",
              "      <td>2008.000000</td>\n",
              "      <td>2008.000000</td>\n",
              "      <td>2008.000000</td>\n",
              "      <td>2008.000000</td>\n",
              "      <td>2008.000000</td>\n",
              "      <td>2008.000000</td>\n",
              "      <td>2008.000000</td>\n",
              "    </tr>\n",
              "    <tr>\n",
              "      <th>mean</th>\n",
              "      <td>100.739044</td>\n",
              "      <td>437.228088</td>\n",
              "      <td>0.0</td>\n",
              "      <td>173.188147</td>\n",
              "      <td>100.416335</td>\n",
              "      <td>29.442555</td>\n",
              "      <td>197.485707</td>\n",
              "      <td>100.135956</td>\n",
              "      <td>16.786489</td>\n",
              "      <td>199.290737</td>\n",
              "      <td>99.884960</td>\n",
              "      <td>8.968167</td>\n",
              "      <td>10.164890</td>\n",
              "      <td>4.547809</td>\n",
              "      <td>2.745000</td>\n",
              "      <td>1.460657</td>\n",
              "    </tr>\n",
              "    <tr>\n",
              "      <th>std</th>\n",
              "      <td>40.186010</td>\n",
              "      <td>42.457831</td>\n",
              "      <td>0.0</td>\n",
              "      <td>48.561105</td>\n",
              "      <td>19.786981</td>\n",
              "      <td>8.255304</td>\n",
              "      <td>50.273571</td>\n",
              "      <td>20.023552</td>\n",
              "      <td>4.273271</td>\n",
              "      <td>50.759755</td>\n",
              "      <td>19.465663</td>\n",
              "      <td>2.284203</td>\n",
              "      <td>2.797746</td>\n",
              "      <td>2.426951</td>\n",
              "      <td>0.755368</td>\n",
              "      <td>1.154030</td>\n",
              "    </tr>\n",
              "    <tr>\n",
              "      <th>min</th>\n",
              "      <td>1.000000</td>\n",
              "      <td>408.000000</td>\n",
              "      <td>0.0</td>\n",
              "      <td>0.000000</td>\n",
              "      <td>0.000000</td>\n",
              "      <td>0.000000</td>\n",
              "      <td>0.000000</td>\n",
              "      <td>0.000000</td>\n",
              "      <td>0.000000</td>\n",
              "      <td>43.700000</td>\n",
              "      <td>33.000000</td>\n",
              "      <td>1.970000</td>\n",
              "      <td>0.000000</td>\n",
              "      <td>0.000000</td>\n",
              "      <td>0.000000</td>\n",
              "      <td>0.000000</td>\n",
              "    </tr>\n",
              "    <tr>\n",
              "      <th>25%</th>\n",
              "      <td>73.000000</td>\n",
              "      <td>408.000000</td>\n",
              "      <td>0.0</td>\n",
              "      <td>142.400000</td>\n",
              "      <td>87.000000</td>\n",
              "      <td>24.210000</td>\n",
              "      <td>163.600000</td>\n",
              "      <td>87.000000</td>\n",
              "      <td>13.910000</td>\n",
              "      <td>166.275000</td>\n",
              "      <td>87.000000</td>\n",
              "      <td>7.480000</td>\n",
              "      <td>8.400000</td>\n",
              "      <td>3.000000</td>\n",
              "      <td>2.270000</td>\n",
              "      <td>1.000000</td>\n",
              "    </tr>\n",
              "    <tr>\n",
              "      <th>50%</th>\n",
              "      <td>100.000000</td>\n",
              "      <td>415.000000</td>\n",
              "      <td>0.0</td>\n",
              "      <td>175.700000</td>\n",
              "      <td>100.000000</td>\n",
              "      <td>29.870000</td>\n",
              "      <td>197.500000</td>\n",
              "      <td>100.000000</td>\n",
              "      <td>16.790000</td>\n",
              "      <td>198.450000</td>\n",
              "      <td>100.000000</td>\n",
              "      <td>8.930000</td>\n",
              "      <td>10.200000</td>\n",
              "      <td>4.000000</td>\n",
              "      <td>2.750000</td>\n",
              "      <td>1.000000</td>\n",
              "    </tr>\n",
              "    <tr>\n",
              "      <th>75%</th>\n",
              "      <td>128.000000</td>\n",
              "      <td>510.000000</td>\n",
              "      <td>0.0</td>\n",
              "      <td>207.200000</td>\n",
              "      <td>114.000000</td>\n",
              "      <td>35.220000</td>\n",
              "      <td>231.125000</td>\n",
              "      <td>114.000000</td>\n",
              "      <td>19.642500</td>\n",
              "      <td>232.825000</td>\n",
              "      <td>113.000000</td>\n",
              "      <td>10.480000</td>\n",
              "      <td>12.000000</td>\n",
              "      <td>6.000000</td>\n",
              "      <td>3.240000</td>\n",
              "      <td>2.000000</td>\n",
              "    </tr>\n",
              "    <tr>\n",
              "      <th>max</th>\n",
              "      <td>243.000000</td>\n",
              "      <td>510.000000</td>\n",
              "      <td>0.0</td>\n",
              "      <td>310.400000</td>\n",
              "      <td>160.000000</td>\n",
              "      <td>52.770000</td>\n",
              "      <td>354.200000</td>\n",
              "      <td>164.000000</td>\n",
              "      <td>30.110000</td>\n",
              "      <td>395.000000</td>\n",
              "      <td>166.000000</td>\n",
              "      <td>17.770000</td>\n",
              "      <td>18.900000</td>\n",
              "      <td>19.000000</td>\n",
              "      <td>5.100000</td>\n",
              "      <td>7.000000</td>\n",
              "    </tr>\n",
              "  </tbody>\n",
              "</table>\n",
              "</div>"
            ],
            "text/plain": [
              "        acc_length    area_code  ...  ttl_intl_chrg  cust_servc_calls\n",
              "count  2008.000000  2008.000000  ...    2008.000000       2008.000000\n",
              "mean    100.739044   437.228088  ...       2.745000          1.460657\n",
              "std      40.186010    42.457831  ...       0.755368          1.154030\n",
              "min       1.000000   408.000000  ...       0.000000          0.000000\n",
              "25%      73.000000   408.000000  ...       2.270000          1.000000\n",
              "50%     100.000000   415.000000  ...       2.750000          1.000000\n",
              "75%     128.000000   510.000000  ...       3.240000          2.000000\n",
              "max     243.000000   510.000000  ...       5.100000          7.000000\n",
              "\n",
              "[8 rows x 16 columns]"
            ]
          },
          "metadata": {
            "tags": []
          },
          "execution_count": 276
        }
      ]
    },
    {
      "cell_type": "code",
      "metadata": {
        "colab": {
          "base_uri": "https://localhost:8080/",
          "height": 314
        },
        "id": "xRf9LNFjtP5G",
        "outputId": "d6caa69d-0547-4343-fe5c-0a57b6c657ae"
      },
      "source": [
        "tdf_CF_VT.describe()"
      ],
      "execution_count": null,
      "outputs": [
        {
          "output_type": "execute_result",
          "data": {
            "text/html": [
              "<div>\n",
              "<style scoped>\n",
              "    .dataframe tbody tr th:only-of-type {\n",
              "        vertical-align: middle;\n",
              "    }\n",
              "\n",
              "    .dataframe tbody tr th {\n",
              "        vertical-align: top;\n",
              "    }\n",
              "\n",
              "    .dataframe thead th {\n",
              "        text-align: right;\n",
              "    }\n",
              "</style>\n",
              "<table border=\"1\" class=\"dataframe\">\n",
              "  <thead>\n",
              "    <tr style=\"text-align: right;\">\n",
              "      <th></th>\n",
              "      <th>acc_length</th>\n",
              "      <th>area_code</th>\n",
              "      <th>num_vmail_msg</th>\n",
              "      <th>ttl_day_min</th>\n",
              "      <th>ttl_day_calls</th>\n",
              "      <th>ttl_day_chrg</th>\n",
              "      <th>ttl_eve_min</th>\n",
              "      <th>ttl_eve_calls</th>\n",
              "      <th>ttl_eve_chrg</th>\n",
              "      <th>ttl_nyt_min</th>\n",
              "      <th>ttl_nyt_calls</th>\n",
              "      <th>ttl_nyt_chrg</th>\n",
              "      <th>ttl_intl_min</th>\n",
              "      <th>ttl_intl_calls</th>\n",
              "      <th>ttl_intl_chrg</th>\n",
              "      <th>cust_servc_calls</th>\n",
              "    </tr>\n",
              "  </thead>\n",
              "  <tbody>\n",
              "    <tr>\n",
              "      <th>count</th>\n",
              "      <td>842.000000</td>\n",
              "      <td>842.000000</td>\n",
              "      <td>842.000000</td>\n",
              "      <td>842.000000</td>\n",
              "      <td>842.000000</td>\n",
              "      <td>842.000000</td>\n",
              "      <td>842.000000</td>\n",
              "      <td>842.000000</td>\n",
              "      <td>842.000000</td>\n",
              "      <td>842.000000</td>\n",
              "      <td>842.000000</td>\n",
              "      <td>842.000000</td>\n",
              "      <td>842.000000</td>\n",
              "      <td>842.000000</td>\n",
              "      <td>842.000000</td>\n",
              "      <td>842.000000</td>\n",
              "    </tr>\n",
              "    <tr>\n",
              "      <th>mean</th>\n",
              "      <td>100.923990</td>\n",
              "      <td>436.709026</td>\n",
              "      <td>29.124703</td>\n",
              "      <td>179.915796</td>\n",
              "      <td>99.965558</td>\n",
              "      <td>30.586164</td>\n",
              "      <td>202.757838</td>\n",
              "      <td>99.806413</td>\n",
              "      <td>17.234703</td>\n",
              "      <td>202.142280</td>\n",
              "      <td>100.471496</td>\n",
              "      <td>9.096473</td>\n",
              "      <td>10.144537</td>\n",
              "      <td>4.497625</td>\n",
              "      <td>2.739596</td>\n",
              "      <td>1.423990</td>\n",
              "    </tr>\n",
              "    <tr>\n",
              "      <th>std</th>\n",
              "      <td>39.172006</td>\n",
              "      <td>41.965074</td>\n",
              "      <td>7.576789</td>\n",
              "      <td>53.583008</td>\n",
              "      <td>19.843082</td>\n",
              "      <td>9.109155</td>\n",
              "      <td>50.171390</td>\n",
              "      <td>19.812121</td>\n",
              "      <td>4.264616</td>\n",
              "      <td>51.894404</td>\n",
              "      <td>19.608105</td>\n",
              "      <td>2.335354</td>\n",
              "      <td>2.754216</td>\n",
              "      <td>2.478563</td>\n",
              "      <td>0.743602</td>\n",
              "      <td>1.187347</td>\n",
              "    </tr>\n",
              "    <tr>\n",
              "      <th>min</th>\n",
              "      <td>1.000000</td>\n",
              "      <td>408.000000</td>\n",
              "      <td>4.000000</td>\n",
              "      <td>2.600000</td>\n",
              "      <td>35.000000</td>\n",
              "      <td>0.440000</td>\n",
              "      <td>42.200000</td>\n",
              "      <td>37.000000</td>\n",
              "      <td>3.590000</td>\n",
              "      <td>23.200000</td>\n",
              "      <td>38.000000</td>\n",
              "      <td>1.040000</td>\n",
              "      <td>0.000000</td>\n",
              "      <td>0.000000</td>\n",
              "      <td>0.000000</td>\n",
              "      <td>0.000000</td>\n",
              "    </tr>\n",
              "    <tr>\n",
              "      <th>25%</th>\n",
              "      <td>74.000000</td>\n",
              "      <td>415.000000</td>\n",
              "      <td>24.000000</td>\n",
              "      <td>143.500000</td>\n",
              "      <td>87.000000</td>\n",
              "      <td>24.400000</td>\n",
              "      <td>167.300000</td>\n",
              "      <td>87.000000</td>\n",
              "      <td>14.220000</td>\n",
              "      <td>165.700000</td>\n",
              "      <td>87.000000</td>\n",
              "      <td>7.460000</td>\n",
              "      <td>8.300000</td>\n",
              "      <td>3.000000</td>\n",
              "      <td>2.240000</td>\n",
              "      <td>1.000000</td>\n",
              "    </tr>\n",
              "    <tr>\n",
              "      <th>50%</th>\n",
              "      <td>101.000000</td>\n",
              "      <td>415.000000</td>\n",
              "      <td>29.000000</td>\n",
              "      <td>182.100000</td>\n",
              "      <td>101.000000</td>\n",
              "      <td>30.960000</td>\n",
              "      <td>203.850000</td>\n",
              "      <td>100.000000</td>\n",
              "      <td>17.325000</td>\n",
              "      <td>203.500000</td>\n",
              "      <td>101.000000</td>\n",
              "      <td>9.160000</td>\n",
              "      <td>10.200000</td>\n",
              "      <td>4.000000</td>\n",
              "      <td>2.750000</td>\n",
              "      <td>1.000000</td>\n",
              "    </tr>\n",
              "    <tr>\n",
              "      <th>75%</th>\n",
              "      <td>127.000000</td>\n",
              "      <td>415.000000</td>\n",
              "      <td>34.000000</td>\n",
              "      <td>216.750000</td>\n",
              "      <td>113.000000</td>\n",
              "      <td>36.850000</td>\n",
              "      <td>236.575000</td>\n",
              "      <td>113.000000</td>\n",
              "      <td>20.107500</td>\n",
              "      <td>239.850000</td>\n",
              "      <td>113.750000</td>\n",
              "      <td>10.797500</td>\n",
              "      <td>12.000000</td>\n",
              "      <td>6.000000</td>\n",
              "      <td>3.240000</td>\n",
              "      <td>2.000000</td>\n",
              "    </tr>\n",
              "    <tr>\n",
              "      <th>max</th>\n",
              "      <td>221.000000</td>\n",
              "      <td>510.000000</td>\n",
              "      <td>51.000000</td>\n",
              "      <td>315.600000</td>\n",
              "      <td>163.000000</td>\n",
              "      <td>53.650000</td>\n",
              "      <td>361.800000</td>\n",
              "      <td>170.000000</td>\n",
              "      <td>30.750000</td>\n",
              "      <td>381.900000</td>\n",
              "      <td>175.000000</td>\n",
              "      <td>17.190000</td>\n",
              "      <td>17.600000</td>\n",
              "      <td>18.000000</td>\n",
              "      <td>4.750000</td>\n",
              "      <td>8.000000</td>\n",
              "    </tr>\n",
              "  </tbody>\n",
              "</table>\n",
              "</div>"
            ],
            "text/plain": [
              "       acc_length   area_code  ...  ttl_intl_chrg  cust_servc_calls\n",
              "count  842.000000  842.000000  ...     842.000000        842.000000\n",
              "mean   100.923990  436.709026  ...       2.739596          1.423990\n",
              "std     39.172006   41.965074  ...       0.743602          1.187347\n",
              "min      1.000000  408.000000  ...       0.000000          0.000000\n",
              "25%     74.000000  415.000000  ...       2.240000          1.000000\n",
              "50%    101.000000  415.000000  ...       2.750000          1.000000\n",
              "75%    127.000000  415.000000  ...       3.240000          2.000000\n",
              "max    221.000000  510.000000  ...       4.750000          8.000000\n",
              "\n",
              "[8 rows x 16 columns]"
            ]
          },
          "metadata": {
            "tags": []
          },
          "execution_count": 277
        }
      ]
    },
    {
      "cell_type": "code",
      "metadata": {
        "colab": {
          "base_uri": "https://localhost:8080/",
          "height": 314
        },
        "id": "e1y1VXE7u90m",
        "outputId": "cbc8625b-02f7-4737-e9d6-b5f58b0d5bb3"
      },
      "source": [
        "tdf_CT_VF.describe()"
      ],
      "execution_count": null,
      "outputs": [
        {
          "output_type": "execute_result",
          "data": {
            "text/html": [
              "<div>\n",
              "<style scoped>\n",
              "    .dataframe tbody tr th:only-of-type {\n",
              "        vertical-align: middle;\n",
              "    }\n",
              "\n",
              "    .dataframe tbody tr th {\n",
              "        vertical-align: top;\n",
              "    }\n",
              "\n",
              "    .dataframe thead th {\n",
              "        text-align: right;\n",
              "    }\n",
              "</style>\n",
              "<table border=\"1\" class=\"dataframe\">\n",
              "  <thead>\n",
              "    <tr style=\"text-align: right;\">\n",
              "      <th></th>\n",
              "      <th>acc_length</th>\n",
              "      <th>area_code</th>\n",
              "      <th>num_vmail_msg</th>\n",
              "      <th>ttl_day_min</th>\n",
              "      <th>ttl_day_calls</th>\n",
              "      <th>ttl_day_chrg</th>\n",
              "      <th>ttl_eve_min</th>\n",
              "      <th>ttl_eve_calls</th>\n",
              "      <th>ttl_eve_chrg</th>\n",
              "      <th>ttl_nyt_min</th>\n",
              "      <th>ttl_nyt_calls</th>\n",
              "      <th>ttl_nyt_chrg</th>\n",
              "      <th>ttl_intl_min</th>\n",
              "      <th>ttl_intl_calls</th>\n",
              "      <th>ttl_intl_chrg</th>\n",
              "      <th>cust_servc_calls</th>\n",
              "    </tr>\n",
              "  </thead>\n",
              "  <tbody>\n",
              "    <tr>\n",
              "      <th>count</th>\n",
              "      <td>403.000000</td>\n",
              "      <td>403.000000</td>\n",
              "      <td>403.0</td>\n",
              "      <td>403.000000</td>\n",
              "      <td>403.000000</td>\n",
              "      <td>403.000000</td>\n",
              "      <td>403.000000</td>\n",
              "      <td>403.000000</td>\n",
              "      <td>403.000000</td>\n",
              "      <td>403.000000</td>\n",
              "      <td>403.000000</td>\n",
              "      <td>403.000000</td>\n",
              "      <td>403.000000</td>\n",
              "      <td>403.000000</td>\n",
              "      <td>403.000000</td>\n",
              "      <td>403.000000</td>\n",
              "    </tr>\n",
              "    <tr>\n",
              "      <th>mean</th>\n",
              "      <td>102.258065</td>\n",
              "      <td>437.071960</td>\n",
              "      <td>0.0</td>\n",
              "      <td>212.934739</td>\n",
              "      <td>101.354839</td>\n",
              "      <td>36.199355</td>\n",
              "      <td>214.351117</td>\n",
              "      <td>100.481390</td>\n",
              "      <td>18.219876</td>\n",
              "      <td>207.613896</td>\n",
              "      <td>100.091811</td>\n",
              "      <td>9.342829</td>\n",
              "      <td>10.611663</td>\n",
              "      <td>4.069479</td>\n",
              "      <td>2.865707</td>\n",
              "      <td>2.158809</td>\n",
              "    </tr>\n",
              "    <tr>\n",
              "      <th>std</th>\n",
              "      <td>40.442981</td>\n",
              "      <td>42.323526</td>\n",
              "      <td>0.0</td>\n",
              "      <td>70.574627</td>\n",
              "      <td>22.166503</td>\n",
              "      <td>11.997781</td>\n",
              "      <td>51.870759</td>\n",
              "      <td>19.738755</td>\n",
              "      <td>4.408785</td>\n",
              "      <td>46.636824</td>\n",
              "      <td>20.107646</td>\n",
              "      <td>2.098766</td>\n",
              "      <td>2.718947</td>\n",
              "      <td>2.436280</td>\n",
              "      <td>0.734194</td>\n",
              "      <td>1.813326</td>\n",
              "    </tr>\n",
              "    <tr>\n",
              "      <th>min</th>\n",
              "      <td>1.000000</td>\n",
              "      <td>408.000000</td>\n",
              "      <td>0.0</td>\n",
              "      <td>0.000000</td>\n",
              "      <td>0.000000</td>\n",
              "      <td>0.000000</td>\n",
              "      <td>70.900000</td>\n",
              "      <td>48.000000</td>\n",
              "      <td>6.030000</td>\n",
              "      <td>47.400000</td>\n",
              "      <td>51.000000</td>\n",
              "      <td>2.130000</td>\n",
              "      <td>2.000000</td>\n",
              "      <td>1.000000</td>\n",
              "      <td>0.540000</td>\n",
              "      <td>0.000000</td>\n",
              "    </tr>\n",
              "    <tr>\n",
              "      <th>25%</th>\n",
              "      <td>75.500000</td>\n",
              "      <td>415.000000</td>\n",
              "      <td>0.0</td>\n",
              "      <td>154.450000</td>\n",
              "      <td>87.000000</td>\n",
              "      <td>26.260000</td>\n",
              "      <td>179.100000</td>\n",
              "      <td>87.000000</td>\n",
              "      <td>15.225000</td>\n",
              "      <td>172.950000</td>\n",
              "      <td>85.500000</td>\n",
              "      <td>7.785000</td>\n",
              "      <td>8.800000</td>\n",
              "      <td>2.000000</td>\n",
              "      <td>2.380000</td>\n",
              "      <td>1.000000</td>\n",
              "    </tr>\n",
              "    <tr>\n",
              "      <th>50%</th>\n",
              "      <td>101.000000</td>\n",
              "      <td>415.000000</td>\n",
              "      <td>0.0</td>\n",
              "      <td>228.600000</td>\n",
              "      <td>103.000000</td>\n",
              "      <td>38.860000</td>\n",
              "      <td>214.100000</td>\n",
              "      <td>101.000000</td>\n",
              "      <td>18.200000</td>\n",
              "      <td>208.000000</td>\n",
              "      <td>100.000000</td>\n",
              "      <td>9.360000</td>\n",
              "      <td>10.500000</td>\n",
              "      <td>3.000000</td>\n",
              "      <td>2.840000</td>\n",
              "      <td>2.000000</td>\n",
              "    </tr>\n",
              "    <tr>\n",
              "      <th>75%</th>\n",
              "      <td>126.500000</td>\n",
              "      <td>462.500000</td>\n",
              "      <td>0.0</td>\n",
              "      <td>269.750000</td>\n",
              "      <td>117.000000</td>\n",
              "      <td>45.860000</td>\n",
              "      <td>250.950000</td>\n",
              "      <td>113.500000</td>\n",
              "      <td>21.330000</td>\n",
              "      <td>241.200000</td>\n",
              "      <td>115.000000</td>\n",
              "      <td>10.855000</td>\n",
              "      <td>12.500000</td>\n",
              "      <td>5.000000</td>\n",
              "      <td>3.380000</td>\n",
              "      <td>4.000000</td>\n",
              "    </tr>\n",
              "    <tr>\n",
              "      <th>max</th>\n",
              "      <td>225.000000</td>\n",
              "      <td>510.000000</td>\n",
              "      <td>0.0</td>\n",
              "      <td>350.800000</td>\n",
              "      <td>165.000000</td>\n",
              "      <td>59.640000</td>\n",
              "      <td>363.700000</td>\n",
              "      <td>168.000000</td>\n",
              "      <td>30.910000</td>\n",
              "      <td>354.900000</td>\n",
              "      <td>158.000000</td>\n",
              "      <td>15.970000</td>\n",
              "      <td>18.300000</td>\n",
              "      <td>15.000000</td>\n",
              "      <td>4.940000</td>\n",
              "      <td>9.000000</td>\n",
              "    </tr>\n",
              "  </tbody>\n",
              "</table>\n",
              "</div>"
            ],
            "text/plain": [
              "       acc_length   area_code  ...  ttl_intl_chrg  cust_servc_calls\n",
              "count  403.000000  403.000000  ...     403.000000        403.000000\n",
              "mean   102.258065  437.071960  ...       2.865707          2.158809\n",
              "std     40.442981   42.323526  ...       0.734194          1.813326\n",
              "min      1.000000  408.000000  ...       0.540000          0.000000\n",
              "25%     75.500000  415.000000  ...       2.380000          1.000000\n",
              "50%    101.000000  415.000000  ...       2.840000          2.000000\n",
              "75%    126.500000  462.500000  ...       3.380000          4.000000\n",
              "max    225.000000  510.000000  ...       4.940000          9.000000\n",
              "\n",
              "[8 rows x 16 columns]"
            ]
          },
          "metadata": {
            "tags": []
          },
          "execution_count": 278
        }
      ]
    },
    {
      "cell_type": "code",
      "metadata": {
        "colab": {
          "base_uri": "https://localhost:8080/",
          "height": 162
        },
        "id": "NObT6ZhWvBTE",
        "outputId": "f9dfcfb4-96b0-487c-e278-1f6094e7f19e"
      },
      "source": [
        "# tdf_CT_VT.describe()"
      ],
      "execution_count": null,
      "outputs": [
        {
          "output_type": "error",
          "ename": "NameError",
          "evalue": "ignored",
          "traceback": [
            "\u001b[0;31m---------------------------------------------------------------------------\u001b[0m",
            "\u001b[0;31mNameError\u001b[0m                                 Traceback (most recent call last)",
            "\u001b[0;32m<ipython-input-510-feb482bacf64>\u001b[0m in \u001b[0;36m<module>\u001b[0;34m()\u001b[0m\n\u001b[0;32m----> 1\u001b[0;31m \u001b[0mtdf_CT_VT\u001b[0m\u001b[0;34m.\u001b[0m\u001b[0mdescribe\u001b[0m\u001b[0;34m(\u001b[0m\u001b[0;34m)\u001b[0m\u001b[0;34m\u001b[0m\u001b[0;34m\u001b[0m\u001b[0m\n\u001b[0m",
            "\u001b[0;31mNameError\u001b[0m: name 'tdf_CT_VT' is not defined"
          ]
        }
      ]
    },
    {
      "cell_type": "code",
      "metadata": {
        "id": "p-n5G7iDtUyn"
      },
      "source": [
        "# for Churn false \n",
        "#                         acc_length\tarea_code\t  num_vmail_msg\t  ttl_day_min\t ttl_day_calls\tttl_day_chrg\tttl_eve_min\t ttl_eve_calls\tttl_eve_chrg\tttl_nyt_min\tttl_nyt_calls\tttl_nyt_chrg\tttl_intl_min\tttl_intl_calls\tttl_intl_chrg\tcust_servc_calls\n",
        "# vmail plan false --mean\t100.739044\t437.228088\t0.0\t            173.188147\t 100.416335\t    29.442555\t    197.485707\t 100.135956\t    16.786489\t    199.290737\t99.884960\t     8.968167\t    10.164890\t    4.547809\t       2.745000\t      1.460657\n",
        "# vmail plan true  --mean\t100.923990\t436.709026\t29.124703\t      179.915796\t 99.965558\t    30.586164\t    202.757838\t 99.806413\t    17.234703\t    202.142280\t100.471496\t   9.096473\t    10.144537\t    4.497625\t       2.739596\t      1.423990\n",
        "\n",
        "# for Churn true\n",
        "# vmail plan false --mean\t102.258065\t437.071960\t0.0\t            212.934739\t 101.354839\t     36.199355\t  214.351117\t 100.481390\t    18.219876\t    207.613896\t 100.091811\t   9.342829\t     10.611663\t  4.069479        \t2.865707\t     2.158809\n",
        "# vmail plan true  --mean\t104.712500\t441.575000\t30.887500     \t176.58500\t   101.237500\t     30.020375\t  202.632500\t 100.962500\t    17.224250\t    193.231250\t 101.950000\t   8.695000\t     11.145000\t  4.637500\t        3.009625\t     2.587500\n"
      ],
      "execution_count": null,
      "outputs": []
    },
    {
      "cell_type": "markdown",
      "metadata": {
        "id": "JAuxGLcNStDe"
      },
      "source": [
        "## Area Code wise Customer(Churner and Non-Churner) Distribution"
      ]
    },
    {
      "cell_type": "code",
      "metadata": {
        "id": "thr-WoQnRe7h"
      },
      "source": [
        "state_list=tele_df1.nlargest(10,'Churn_per').index.values.tolist()\n",
        "new_df=tele_df[tele_df['State'].isin(state_list)]"
      ],
      "execution_count": null,
      "outputs": []
    },
    {
      "cell_type": "code",
      "metadata": {
        "id": "AvJKnrAfF-95"
      },
      "source": [
        "df4=pd.crosstab(new_df['Churn'], new_df['area_code'], margins = True)"
      ],
      "execution_count": null,
      "outputs": []
    },
    {
      "cell_type": "code",
      "metadata": {
        "id": "ff6G4Fw7GSuJ"
      },
      "source": [
        "df4.loc['False_per']=df4.iloc[0,:]/df4.iloc[2,:]*100\n",
        "df4.loc['True_per']=df4.iloc[1,:]/df4.iloc[2,:]*100\n",
        "df5=df4.transpose()"
      ],
      "execution_count": null,
      "outputs": []
    },
    {
      "cell_type": "code",
      "metadata": {
        "id": "c0icQy_7Rjx_"
      },
      "source": [
        "df4=pd.crosstab(new_df['Churn'], new_df['area_code'], margins = True)\n"
      ],
      "execution_count": null,
      "outputs": []
    },
    {
      "cell_type": "code",
      "metadata": {
        "colab": {
          "base_uri": "https://localhost:8080/",
          "height": 361
        },
        "id": "JgMyOR8pN2Wg",
        "outputId": "06a1010f-3d42-4b0b-b6ff-fbdf86683950"
      },
      "source": [
        "df5.iloc[:,3:].plot(kind='bar')"
      ],
      "execution_count": null,
      "outputs": [
        {
          "output_type": "execute_result",
          "data": {
            "text/plain": [
              "<matplotlib.axes._subplots.AxesSubplot at 0x7f03f7122ad0>"
            ]
          },
          "metadata": {
            "tags": []
          },
          "execution_count": 551
        },
        {
          "output_type": "display_data",
          "data": {
            "image/png": "[encoded data removed]",
            "text/plain": [
              "<Figure size 720x360 with 1 Axes>"
            ]
          },
          "metadata": {
            "tags": [],
            "needs_background": "light"
          }
        }
      ]
    },
    {
      "cell_type": "markdown",
      "metadata": {
        "id": "MA60DVOEd5Xu"
      },
      "source": [
        "For top 10 state( churn population percentage in each state) area code 408 has more churning population than other area code\n"
      ]
    },
    {
      "cell_type": "markdown",
      "metadata": {
        "id": "8nEc09QpTlb5"
      },
      "source": [
        "## International plan affecting the churn rate"
      ]
    },
    {
      "cell_type": "code",
      "metadata": {
        "colab": {
          "base_uri": "https://localhost:8080/"
        },
        "id": "hWj4hWfJetRc",
        "outputId": "95be99e3-021b-4c16-8653-7ae65e5011b3"
      },
      "source": [
        "df6 = tele_df.groupby(['Churn','intl_plan'])['intl_plan'].count()\n",
        "df6.unstack()\n",
        "\n",
        "# people having intl plan with false churning:\n",
        "\n",
        "percent_false_intl = (df6.loc[False,'Yes']/df6.loc[False].sum())*100\n",
        "print('The % of customers with false churning having intl plan is', round(percent_false_intl,2),'%')\n",
        "\n",
        "# people having intl plan with true churning:\n",
        "\n",
        "percent_true_intl  = (df6.loc[True,'Yes']/df6.loc[True].sum())*100\n",
        "print('The % of customers with true churning having intl plan is',round(percent_true_intl,2),'%')\n"
      ],
      "execution_count": null,
      "outputs": [
        {
          "output_type": "stream",
          "text": [
            "The % of customers with false churning having intl plan is 6.53 %\n",
            "The % of customers with true churning having intl plan is 28.36 %\n"
          ],
          "name": "stdout"
        }
      ]
    },
    {
      "cell_type": "code",
      "metadata": {
        "colab": {
          "base_uri": "https://localhost:8080/",
          "height": 381
        },
        "id": "jiHlurCIewNz",
        "outputId": "6eb811ec-ef86-4a25-e83f-9f29049a5381"
      },
      "source": [
        "plt.rcParams['figure.figsize'] = (10, 5)\n",
        "df6.unstack().plot(kind='bar')\n",
        "plt.title('International plan vs churn')\n",
        "plt.xlabel('churn')\n",
        "plt.ylabel('International plan')\n"
      ],
      "execution_count": null,
      "outputs": [
        {
          "output_type": "execute_result",
          "data": {
            "text/plain": [
              "Text(0, 0.5, 'International plan')"
            ]
          },
          "metadata": {
            "tags": []
          },
          "execution_count": 506
        },
        {
          "output_type": "display_data",
          "data": {
            "image/png": "[encoded data removed]",
            "text/plain": [
              "<Figure size 720x360 with 1 Axes>"
            ]
          },
          "metadata": {
            "tags": [],
            "needs_background": "light"
          }
        }
      ]
    },
    {
      "cell_type": "markdown",
      "metadata": {
        "id": "D7J1X8Lifj32"
      },
      "source": [
        "*   Customer having international plan are more prone to churn.\n",
        "\n"
      ]
    },
    {
      "cell_type": "markdown",
      "metadata": {
        "id": "oWvCIVBcUTj3"
      },
      "source": [
        "## Voice mail plan affecting Churn rate"
      ]
    },
    {
      "cell_type": "code",
      "metadata": {
        "colab": {
          "base_uri": "https://localhost:8080/"
        },
        "id": "u40PPigci7Dv",
        "outputId": "ad054547-d52a-4a00-ab2b-e2eb5da7d2f6"
      },
      "source": [
        "df4 = new_df.groupby(['Churn', 'voice_mail_plan'])['voice_mail_plan'].count()\n",
        "print(df4.unstack())\n",
        "vmp_yes_true = (df4.unstack().loc[True,'Yes'] / df4.unstack().loc[True].sum())*100\n",
        "print('The % of people with TRUE churning with voice plan activated', round(vmp_yes_true,2),'%')\n",
        "vmp_yes_false = (df4.unstack().loc[False,'Yes'] / df4.unstack().loc[False].sum())*100\n",
        "print('The % of people with FALSE churning with voice plan activated',round(vmp_yes_false,2),'%')\n"
      ],
      "execution_count": null,
      "outputs": [
        {
          "output_type": "stream",
          "text": [
            "voice_mail_plan   No  Yes\n",
            "Churn                    \n",
            "False            396  156\n",
            "True             132   23\n",
            "The % of people with TRUE churning with voice plan activated 14.84 %\n",
            "The % of people with FALSE churning with voice plan activated 28.26 %\n"
          ],
          "name": "stdout"
        }
      ]
    },
    {
      "cell_type": "code",
      "metadata": {
        "colab": {
          "base_uri": "https://localhost:8080/",
          "height": 381
        },
        "id": "62RxW9swi93m",
        "outputId": "8da289c9-a282-4e2f-d078-460063af86a3"
      },
      "source": [
        "plt.rcParams['figure.figsize'] = (10, 5)\n",
        "df4.unstack().plot(kind='bar')\n",
        "plt.title('Voice mail plan vs Churn')\n",
        "plt.xlabel('Churn')\n",
        "plt.ylabel('voice mail plan no')\n"
      ],
      "execution_count": null,
      "outputs": [
        {
          "output_type": "execute_result",
          "data": {
            "text/plain": [
              "Text(0, 0.5, 'voice mail plan no')"
            ]
          },
          "metadata": {
            "tags": []
          },
          "execution_count": 341
        },
        {
          "output_type": "display_data",
          "data": {
            "image/png": "[encoded data removed]",
            "text/plain": [
              "<Figure size 720x360 with 1 Axes>"
            ]
          },
          "metadata": {
            "tags": [],
            "needs_background": "light"
          }
        }
      ]
    },
    {
      "cell_type": "markdown",
      "metadata": {
        "id": "bIE8GDv_lD-b"
      },
      "source": [
        "* churning customer not having voice mail plan are more prone to leave.\n",
        "voice mail plan are not affordable "
      ]
    },
    {
      "cell_type": "markdown",
      "metadata": {
        "id": "erstIb96Ukg0"
      },
      "source": [
        "##Customer service calls affecting the Churn rate"
      ]
    },
    {
      "cell_type": "code",
      "metadata": {
        "colab": {
          "base_uri": "https://localhost:8080/",
          "height": 172
        },
        "id": "88olxvHbmsjR",
        "outputId": "5e3f74bd-53b0-4e84-c986-cee788f4c662"
      },
      "source": [
        "pd.crosstab(new_df['Churn'], new_df['cust_servc_calls'], margins = True)\n"
      ],
      "execution_count": null,
      "outputs": [
        {
          "output_type": "execute_result",
          "data": {
            "text/html": [
              "<div>\n",
              "<style scoped>\n",
              "    .dataframe tbody tr th:only-of-type {\n",
              "        vertical-align: middle;\n",
              "    }\n",
              "\n",
              "    .dataframe tbody tr th {\n",
              "        vertical-align: top;\n",
              "    }\n",
              "\n",
              "    .dataframe thead th {\n",
              "        text-align: right;\n",
              "    }\n",
              "</style>\n",
              "<table border=\"1\" class=\"dataframe\">\n",
              "  <thead>\n",
              "    <tr style=\"text-align: right;\">\n",
              "      <th>cust_servc_calls</th>\n",
              "      <th>0</th>\n",
              "      <th>1</th>\n",
              "      <th>2</th>\n",
              "      <th>3</th>\n",
              "      <th>4</th>\n",
              "      <th>5</th>\n",
              "      <th>6</th>\n",
              "      <th>7</th>\n",
              "      <th>8</th>\n",
              "      <th>9</th>\n",
              "      <th>All</th>\n",
              "    </tr>\n",
              "    <tr>\n",
              "      <th>Churn</th>\n",
              "      <th></th>\n",
              "      <th></th>\n",
              "      <th></th>\n",
              "      <th></th>\n",
              "      <th></th>\n",
              "      <th></th>\n",
              "      <th></th>\n",
              "      <th></th>\n",
              "      <th></th>\n",
              "      <th></th>\n",
              "      <th></th>\n",
              "    </tr>\n",
              "  </thead>\n",
              "  <tbody>\n",
              "    <tr>\n",
              "      <th>False</th>\n",
              "      <td>404</td>\n",
              "      <td>722</td>\n",
              "      <td>477</td>\n",
              "      <td>261</td>\n",
              "      <td>55</td>\n",
              "      <td>19</td>\n",
              "      <td>5</td>\n",
              "      <td>3</td>\n",
              "      <td>1</td>\n",
              "      <td>0</td>\n",
              "      <td>1947</td>\n",
              "    </tr>\n",
              "    <tr>\n",
              "      <th>True</th>\n",
              "      <td>80</td>\n",
              "      <td>97</td>\n",
              "      <td>73</td>\n",
              "      <td>33</td>\n",
              "      <td>61</td>\n",
              "      <td>32</td>\n",
              "      <td>13</td>\n",
              "      <td>3</td>\n",
              "      <td>1</td>\n",
              "      <td>2</td>\n",
              "      <td>395</td>\n",
              "    </tr>\n",
              "    <tr>\n",
              "      <th>All</th>\n",
              "      <td>484</td>\n",
              "      <td>819</td>\n",
              "      <td>550</td>\n",
              "      <td>294</td>\n",
              "      <td>116</td>\n",
              "      <td>51</td>\n",
              "      <td>18</td>\n",
              "      <td>6</td>\n",
              "      <td>2</td>\n",
              "      <td>2</td>\n",
              "      <td>2342</td>\n",
              "    </tr>\n",
              "  </tbody>\n",
              "</table>\n",
              "</div>"
            ],
            "text/plain": [
              "cust_servc_calls    0    1    2    3    4   5   6  7  8  9   All\n",
              "Churn                                                           \n",
              "False             404  722  477  261   55  19   5  3  1  0  1947\n",
              "True               80   97   73   33   61  32  13  3  1  2   395\n",
              "All               484  819  550  294  116  51  18  6  2  2  2342"
            ]
          },
          "metadata": {
            "tags": []
          },
          "execution_count": 507
        }
      ]
    },
    {
      "cell_type": "code",
      "metadata": {
        "colab": {
          "base_uri": "https://localhost:8080/",
          "height": 352
        },
        "id": "OPGfa9WRmz-E",
        "outputId": "18024729-7ef6-438e-d161-45b81b9f3243"
      },
      "source": [
        "sns.countplot(x = 'cust_servc_calls', hue = 'Churn', data = new_df)\n",
        "\n"
      ],
      "execution_count": null,
      "outputs": [
        {
          "output_type": "execute_result",
          "data": {
            "text/plain": [
              "<matplotlib.axes._subplots.AxesSubplot at 0x7f03f9806e50>"
            ]
          },
          "metadata": {
            "tags": []
          },
          "execution_count": 528
        },
        {
          "output_type": "display_data",
          "data": {
            "image/png": "[encoded data removed]",
            "text/plain": [
              "<Figure size 720x360 with 1 Axes>"
            ]
          },
          "metadata": {
            "tags": [],
            "needs_background": "light"
          }
        }
      ]
    },
    {
      "cell_type": "code",
      "metadata": {
        "colab": {
          "base_uri": "https://localhost:8080/"
        },
        "id": "QkgWcXAtm2cT",
        "outputId": "a4585908-cb23-430f-debe-b3b4243f4b5e"
      },
      "source": [
        "new_df['Service_calls'] = (new_df['cust_servc_calls'] > 3).astype('int')\n"
      ],
      "execution_count": null,
      "outputs": [
        {
          "output_type": "stream",
          "text": [
            "/usr/local/lib/python3.7/dist-packages/ipykernel_launcher.py:1: SettingWithCopyWarning: \n",
            "A value is trying to be set on a copy of a slice from a DataFrame.\n",
            "Try using .loc[row_indexer,col_indexer] = value instead\n",
            "\n",
            "See the caveats in the documentation: https://pandas.pydata.org/pandas-docs/stable/user_guide/indexing.html#returning-a-view-versus-a-copy\n",
            "  \"\"\"Entry point for launching an IPython kernel.\n"
          ],
          "name": "stderr"
        }
      ]
    },
    {
      "cell_type": "code",
      "metadata": {
        "colab": {
          "base_uri": "https://localhost:8080/",
          "height": 172
        },
        "id": "gTV05Ouqm44x",
        "outputId": "003e9c1f-83fd-453f-fba6-31dd7b9a379d"
      },
      "source": [
        "pd.crosstab(new_df['Service_calls'], new_df['Churn'], margins = True)\n"
      ],
      "execution_count": null,
      "outputs": [
        {
          "output_type": "execute_result",
          "data": {
            "text/html": [
              "<div>\n",
              "<style scoped>\n",
              "    .dataframe tbody tr th:only-of-type {\n",
              "        vertical-align: middle;\n",
              "    }\n",
              "\n",
              "    .dataframe tbody tr th {\n",
              "        vertical-align: top;\n",
              "    }\n",
              "\n",
              "    .dataframe thead th {\n",
              "        text-align: right;\n",
              "    }\n",
              "</style>\n",
              "<table border=\"1\" class=\"dataframe\">\n",
              "  <thead>\n",
              "    <tr style=\"text-align: right;\">\n",
              "      <th>Churn</th>\n",
              "      <th>False</th>\n",
              "      <th>True</th>\n",
              "      <th>All</th>\n",
              "    </tr>\n",
              "    <tr>\n",
              "      <th>Service_calls</th>\n",
              "      <th></th>\n",
              "      <th></th>\n",
              "      <th></th>\n",
              "    </tr>\n",
              "  </thead>\n",
              "  <tbody>\n",
              "    <tr>\n",
              "      <th>0</th>\n",
              "      <td>1613</td>\n",
              "      <td>258</td>\n",
              "      <td>1871</td>\n",
              "    </tr>\n",
              "    <tr>\n",
              "      <th>1</th>\n",
              "      <td>62</td>\n",
              "      <td>99</td>\n",
              "      <td>161</td>\n",
              "    </tr>\n",
              "    <tr>\n",
              "      <th>All</th>\n",
              "      <td>1675</td>\n",
              "      <td>357</td>\n",
              "      <td>2032</td>\n",
              "    </tr>\n",
              "  </tbody>\n",
              "</table>\n",
              "</div>"
            ],
            "text/plain": [
              "Churn          False  True   All\n",
              "Service_calls                   \n",
              "0               1613   258  1871\n",
              "1                 62    99   161\n",
              "All             1675   357  2032"
            ]
          },
          "metadata": {
            "tags": []
          },
          "execution_count": 392
        }
      ]
    },
    {
      "cell_type": "code",
      "metadata": {
        "colab": {
          "base_uri": "https://localhost:8080/",
          "height": 352
        },
        "id": "VCIKNIxVm6iI",
        "outputId": "26715973-824c-4020-f797-e97b80250129"
      },
      "source": [
        "sns.countplot(x = 'Service_calls', hue = 'Churn', data = new_df)\n"
      ],
      "execution_count": null,
      "outputs": [
        {
          "output_type": "execute_result",
          "data": {
            "text/plain": [
              "<matplotlib.axes._subplots.AxesSubplot at 0x7f03fab1ccd0>"
            ]
          },
          "metadata": {
            "tags": []
          },
          "execution_count": 393
        },
        {
          "output_type": "display_data",
          "data": {
            "image/png": "[encoded data removed]",
            "text/plain": [
              "<Figure size 720x360 with 1 Axes>"
            ]
          },
          "metadata": {
            "tags": [],
            "needs_background": "light"
          }
        }
      ]
    },
    {
      "cell_type": "markdown",
      "metadata": {
        "id": "M2MbGcTVseg4"
      },
      "source": [
        "* Churn rate increases sharply from four customer service call and above"
      ]
    },
    {
      "cell_type": "markdown",
      "metadata": {
        "id": "AR0DiN0bVibP"
      },
      "source": [
        "## Number of Voice mail messages affecting Churn"
      ]
    },
    {
      "cell_type": "code",
      "metadata": {
        "colab": {
          "base_uri": "https://localhost:8080/",
          "height": 431
        },
        "id": "aRSGcH4apsHm",
        "outputId": "ff47ad00-ee5b-43c7-d8ef-5efe457e0a60"
      },
      "source": [
        "new_df.boxplot(column='num_vmail_msg', by='Churn',figsize=(10,5))\n"
      ],
      "execution_count": null,
      "outputs": [
        {
          "output_type": "stream",
          "text": [
            "/usr/local/lib/python3.7/dist-packages/numpy/core/_asarray.py:83: VisibleDeprecationWarning: Creating an ndarray from ragged nested sequences (which is a list-or-tuple of lists-or-tuples-or ndarrays with different lengths or shapes) is deprecated. If you meant to do this, you must specify 'dtype=object' when creating the ndarray\n",
            "  return array(a, dtype, copy=False, order=order)\n"
          ],
          "name": "stderr"
        },
        {
          "output_type": "execute_result",
          "data": {
            "text/plain": [
              "<matplotlib.axes._subplots.AxesSubplot at 0x7f03f7192890>"
            ]
          },
          "metadata": {
            "tags": []
          },
          "execution_count": 553
        },
        {
          "output_type": "display_data",
          "data": {
            "image/png": "[encoded data removed]",
            "text/plain": [
              "<Figure size 720x360 with 1 Axes>"
            ]
          },
          "metadata": {
            "tags": [],
            "needs_background": "light"
          }
        }
      ]
    },
    {
      "cell_type": "markdown",
      "metadata": {
        "id": "FwnxgQKvuRG2"
      },
      "source": [
        "* when there are more than 25 voice-mail messages then we get a chunk of people  indicating churn .Improving the voice-mail feature or setting a limit can improve the stats.\n",
        "1. Voice-Mail Service Upgradation\n",
        "2. Setting up a limit on Voice-Mail . \n",
        "3. Performance drop in  Voice-Mail after 25 voice mails.\n",
        "\n",
        "\n",
        "\n"
      ]
    },
    {
      "cell_type": "code",
      "metadata": {
        "colab": {
          "base_uri": "https://localhost:8080/",
          "height": 623
        },
        "id": "dNyuEtWDgnLA",
        "outputId": "7cdc2807-5177-4e05-99ac-b05014fac9a1"
      },
      "source": [
        "\n",
        "fig, ax = plt.subplots(figsize=(20,10))\n",
        "\n",
        "a_heights, a_bins = np.histogram(tele_df[tele_df['Churn']==True]['num_vmail_msg'])\n",
        "b_heights, b_bins = np.histogram(tele_df[tele_df['Churn']==False]['num_vmail_msg'], bins=a_bins)\n",
        "\n",
        "width = (a_bins[1] - a_bins[0])/3\n",
        "ax.bar(a_bins[:-1], a_heights, width=width, facecolor='steelblue')\n",
        "ax.bar(b_bins[:-1]+width, b_heights, width=width, facecolor='darkorange')\n",
        "ax.legend(labels=['True','False'])\n",
        "plt.title('Histogram plot for number of voice mails')"
      ],
      "execution_count": null,
      "outputs": [
        {
          "output_type": "execute_result",
          "data": {
            "text/plain": [
              "Text(0.5, 1.0, 'Histogram plot for number of voice mails')"
            ]
          },
          "metadata": {
            "tags": []
          },
          "execution_count": 18
        },
        {
          "output_type": "display_data",
          "data": {
            "image/png": "[encoded data removed]",
            "text/plain": [
              "<Figure size 1440x720 with 1 Axes>"
            ]
          },
          "metadata": {
            "tags": [],
            "needs_background": "light"
          }
        }
      ]
    },
    {
      "cell_type": "markdown",
      "metadata": {
        "id": "JPxfGiarY8yz"
      },
      "source": [
        "## Call Duration Effect on Churning"
      ]
    },
    {
      "cell_type": "code",
      "metadata": {
        "colab": {
          "base_uri": "https://localhost:8080/",
          "height": 598
        },
        "id": "IxJCrn7_uend",
        "outputId": "83d4e3c7-aca3-42ef-8df2-bae5ac52dba6"
      },
      "source": [
        "new_df.boxplot(column=['ttl_eve_min','ttl_day_min','ttl_nyt_min','ttl_intl_min'], by='Churn')"
      ],
      "execution_count": null,
      "outputs": [
        {
          "output_type": "stream",
          "text": [
            "/usr/local/lib/python3.7/dist-packages/numpy/core/_asarray.py:83: VisibleDeprecationWarning: Creating an ndarray from ragged nested sequences (which is a list-or-tuple of lists-or-tuples-or ndarrays with different lengths or shapes) is deprecated. If you meant to do this, you must specify 'dtype=object' when creating the ndarray\n",
            "  return array(a, dtype, copy=False, order=order)\n",
            "/usr/local/lib/python3.7/dist-packages/numpy/core/_asarray.py:83: VisibleDeprecationWarning: Creating an ndarray from ragged nested sequences (which is a list-or-tuple of lists-or-tuples-or ndarrays with different lengths or shapes) is deprecated. If you meant to do this, you must specify 'dtype=object' when creating the ndarray\n",
            "  return array(a, dtype, copy=False, order=order)\n",
            "/usr/local/lib/python3.7/dist-packages/numpy/core/_asarray.py:83: VisibleDeprecationWarning: Creating an ndarray from ragged nested sequences (which is a list-or-tuple of lists-or-tuples-or ndarrays with different lengths or shapes) is deprecated. If you meant to do this, you must specify 'dtype=object' when creating the ndarray\n",
            "  return array(a, dtype, copy=False, order=order)\n",
            "/usr/local/lib/python3.7/dist-packages/numpy/core/_asarray.py:83: VisibleDeprecationWarning: Creating an ndarray from ragged nested sequences (which is a list-or-tuple of lists-or-tuples-or ndarrays with different lengths or shapes) is deprecated. If you meant to do this, you must specify 'dtype=object' when creating the ndarray\n",
            "  return array(a, dtype, copy=False, order=order)\n"
          ],
          "name": "stderr"
        },
        {
          "output_type": "execute_result",
          "data": {
            "text/plain": [
              "array([[<matplotlib.axes._subplots.AxesSubplot object at 0x7f03f9806850>,\n",
              "        <matplotlib.axes._subplots.AxesSubplot object at 0x7f03f8b36050>],\n",
              "       [<matplotlib.axes._subplots.AxesSubplot object at 0x7f03f970ac90>,\n",
              "        <matplotlib.axes._subplots.AxesSubplot object at 0x7f03f8ccd7d0>]],\n",
              "      dtype=object)"
            ]
          },
          "metadata": {
            "tags": []
          },
          "execution_count": 529
        },
        {
          "output_type": "display_data",
          "data": {
            "image/png": "[encoded data removed]",
            "text/plain": [
              "<Figure size 720x360 with 4 Axes>"
            ]
          },
          "metadata": {
            "tags": [],
            "needs_background": "light"
          }
        }
      ]
    },
    {
      "cell_type": "code",
      "metadata": {
        "colab": {
          "base_uri": "https://localhost:8080/",
          "height": 896
        },
        "id": "2WGiQelTosPP",
        "outputId": "563797f3-1bf3-4638-904b-56be6957e2f7"
      },
      "source": [
        "\n",
        "fig, ax = plt.subplots(2,2,figsize=(25,15))\n",
        "\n",
        "a_heights, a_bins = np.histogram(tele_df[tele_df['Churn']==True]['ttl_eve_min'])\n",
        "b_heights, b_bins = np.histogram(tele_df[tele_df['Churn']==False]['ttl_eve_min'], bins=a_bins)\n",
        "\n",
        "\n",
        "width = (a_bins[1] - a_bins[0])/3\n",
        "ax[0,0].bar(a_bins[:-1], a_heights, width=width, facecolor='steelblue')\n",
        "ax[0,0].bar(b_bins[:-1]+width, b_heights, width=width, facecolor='darkorange')\n",
        "ax[0,0].legend(labels=['True','False'])\n",
        "ax[0,0].set_title('Total evening minutes')\n",
        "\n",
        "a_heights, a_bins = np.histogram(tele_df[tele_df['Churn']==True]['ttl_intl_min'])\n",
        "b_heights, b_bins = np.histogram(tele_df[tele_df['Churn']==False]['ttl_intl_min'], bins=a_bins)\n",
        "\n",
        "\n",
        "width = (a_bins[1] - a_bins[0])/3\n",
        "ax[0,1].bar(a_bins[:-1], a_heights, width=width, facecolor='steelblue')\n",
        "ax[0,1].bar(b_bins[:-1]+width, b_heights, width=width, facecolor='darkorange')\n",
        "ax[0,1].legend(labels=['True','False'])\n",
        "ax[0,1].set_title('Total international minutes')\n",
        "\n",
        "\n",
        "a_heights, a_bins = np.histogram(tele_df[tele_df['Churn']==True]['ttl_day_min'])\n",
        "b_heights, b_bins = np.histogram(tele_df[tele_df['Churn']==False]['ttl_day_min'], bins=a_bins)\n",
        "\n",
        "\n",
        "width = (a_bins[1] - a_bins[0])/3\n",
        "ax[1,0].bar(a_bins[:-1], a_heights, width=width, facecolor='steelblue')\n",
        "ax[1,0].bar(b_bins[:-1]+width, b_heights, width=width, facecolor='darkorange')\n",
        "ax[1,0].legend(labels=['True','False'])\n",
        "ax[1,0].set_title('Total day minutes')\n",
        "\n",
        "a_heights, a_bins = np.histogram(tele_df[tele_df['Churn']==True]['ttl_nyt_min'])\n",
        "b_heights, b_bins = np.histogram(tele_df[tele_df['Churn']==False]['ttl_nyt_min'], bins=a_bins)\n",
        "\n",
        "\n",
        "width = (a_bins[1] - a_bins[0])/3\n",
        "ax[1,1].bar(a_bins[:-1], a_heights, width=width, facecolor='steelblue')\n",
        "ax[1,1].bar(b_bins[:-1]+width, b_heights, width=width, facecolor='darkorange')\n",
        "ax[1,1].legend(labels=['True','False'])\n",
        "ax[1,1].set_title('Total night minutes')"
      ],
      "execution_count": null,
      "outputs": [
        {
          "output_type": "execute_result",
          "data": {
            "text/plain": [
              "Text(0.5, 1.0, 'Total night minutes')"
            ]
          },
          "metadata": {
            "tags": []
          },
          "execution_count": 19
        },
        {
          "output_type": "display_data",
          "data": {
            "image/png": "[encoded data removed]",
            "text/plain": [
              "<Figure size 1800x1080 with 4 Axes>"
            ]
          },
          "metadata": {
            "tags": [],
            "needs_background": "light"
          }
        }
      ]
    },
    {
      "cell_type": "code",
      "metadata": {
        "colab": {
          "base_uri": "https://localhost:8080/",
          "height": 141
        },
        "id": "VRN1h1QwwEOp",
        "outputId": "618642fc-480e-45f3-9f5a-8a4a75e4511b"
      },
      "source": [
        "new_df1 = new_df.groupby(['Churn']).agg({'ttl_day_min':'median','ttl_eve_min':'median','ttl_nyt_min':'median','ttl_intl_min':'median'})\n",
        "new_df1\n"
      ],
      "execution_count": null,
      "outputs": [
        {
          "output_type": "execute_result",
          "data": {
            "text/html": [
              "<div>\n",
              "<style scoped>\n",
              "    .dataframe tbody tr th:only-of-type {\n",
              "        vertical-align: middle;\n",
              "    }\n",
              "\n",
              "    .dataframe tbody tr th {\n",
              "        vertical-align: top;\n",
              "    }\n",
              "\n",
              "    .dataframe thead th {\n",
              "        text-align: right;\n",
              "    }\n",
              "</style>\n",
              "<table border=\"1\" class=\"dataframe\">\n",
              "  <thead>\n",
              "    <tr style=\"text-align: right;\">\n",
              "      <th></th>\n",
              "      <th>ttl_day_min</th>\n",
              "      <th>ttl_eve_min</th>\n",
              "      <th>ttl_nyt_min</th>\n",
              "      <th>ttl_intl_min</th>\n",
              "    </tr>\n",
              "    <tr>\n",
              "      <th>Churn</th>\n",
              "      <th></th>\n",
              "      <th></th>\n",
              "      <th></th>\n",
              "      <th></th>\n",
              "    </tr>\n",
              "  </thead>\n",
              "  <tbody>\n",
              "    <tr>\n",
              "      <th>False</th>\n",
              "      <td>176.3</td>\n",
              "      <td>198.6</td>\n",
              "      <td>200.4</td>\n",
              "      <td>10.3</td>\n",
              "    </tr>\n",
              "    <tr>\n",
              "      <th>True</th>\n",
              "      <td>221.1</td>\n",
              "      <td>211.1</td>\n",
              "      <td>203.9</td>\n",
              "      <td>10.7</td>\n",
              "    </tr>\n",
              "  </tbody>\n",
              "</table>\n",
              "</div>"
            ],
            "text/plain": [
              "       ttl_day_min  ttl_eve_min  ttl_nyt_min  ttl_intl_min\n",
              "Churn                                                     \n",
              "False        176.3        198.6        200.4          10.3\n",
              "True         221.1        211.1        203.9          10.7"
            ]
          },
          "metadata": {
            "tags": []
          },
          "execution_count": 400
        }
      ]
    },
    {
      "cell_type": "code",
      "metadata": {
        "colab": {
          "base_uri": "https://localhost:8080/",
          "height": 229
        },
        "id": "RO_GS2XJwG26",
        "outputId": "b8472ec2-67cc-4131-f874-6ccc195d8446"
      },
      "source": [
        "plt.rcParams['figure.figsize'] = (10, 5)\n",
        "new_df1.plot(kind='bar')\n",
        "plt.title('Customer service calls')\n",
        "plt.ylabel('Total number of calls')\n",
        "plt.xlabel('Churn-True')\n",
        "plt.facecolor(['cornflowerblue','green','orange','red'])\n"
      ],
      "execution_count": null,
      "outputs": [
        {
          "output_type": "error",
          "ename": "NameError",
          "evalue": "ignored",
          "traceback": [
            "\u001b[0;31m---------------------------------------------------------------------------\u001b[0m",
            "\u001b[0;31mNameError\u001b[0m                                 Traceback (most recent call last)",
            "\u001b[0;32m<ipython-input-1-f3d409c1c4da>\u001b[0m in \u001b[0;36m<module>\u001b[0;34m()\u001b[0m\n\u001b[0;32m----> 1\u001b[0;31m \u001b[0mplt\u001b[0m\u001b[0;34m.\u001b[0m\u001b[0mrcParams\u001b[0m\u001b[0;34m[\u001b[0m\u001b[0;34m'figure.figsize'\u001b[0m\u001b[0;34m]\u001b[0m \u001b[0;34m=\u001b[0m \u001b[0;34m(\u001b[0m\u001b[0;36m10\u001b[0m\u001b[0;34m,\u001b[0m \u001b[0;36m5\u001b[0m\u001b[0;34m)\u001b[0m\u001b[0;34m\u001b[0m\u001b[0;34m\u001b[0m\u001b[0m\n\u001b[0m\u001b[1;32m      2\u001b[0m \u001b[0mnew_df1\u001b[0m\u001b[0;34m.\u001b[0m\u001b[0mplot\u001b[0m\u001b[0;34m(\u001b[0m\u001b[0mkind\u001b[0m\u001b[0;34m=\u001b[0m\u001b[0;34m'bar'\u001b[0m\u001b[0;34m)\u001b[0m\u001b[0;34m\u001b[0m\u001b[0;34m\u001b[0m\u001b[0m\n\u001b[1;32m      3\u001b[0m \u001b[0mplt\u001b[0m\u001b[0;34m.\u001b[0m\u001b[0mtitle\u001b[0m\u001b[0;34m(\u001b[0m\u001b[0;34m'Customer service calls'\u001b[0m\u001b[0;34m)\u001b[0m\u001b[0;34m\u001b[0m\u001b[0;34m\u001b[0m\u001b[0m\n\u001b[1;32m      4\u001b[0m \u001b[0mplt\u001b[0m\u001b[0;34m.\u001b[0m\u001b[0mylabel\u001b[0m\u001b[0;34m(\u001b[0m\u001b[0;34m'Total number of calls'\u001b[0m\u001b[0;34m)\u001b[0m\u001b[0;34m\u001b[0m\u001b[0;34m\u001b[0m\u001b[0m\n\u001b[1;32m      5\u001b[0m \u001b[0mplt\u001b[0m\u001b[0;34m.\u001b[0m\u001b[0mxlabel\u001b[0m\u001b[0;34m(\u001b[0m\u001b[0;34m'Churn-True'\u001b[0m\u001b[0;34m)\u001b[0m\u001b[0;34m\u001b[0m\u001b[0;34m\u001b[0m\u001b[0m\n",
            "\u001b[0;31mNameError\u001b[0m: name 'plt' is not defined"
          ]
        }
      ]
    },
    {
      "cell_type": "markdown",
      "metadata": {
        "id": "N_cTOXbjwsy3"
      },
      "source": [
        "* Above plot represents customer making call during day time for long duration are more prone to churn.\n",
        "\n",
        "  We can infer from above day-night box-plot that with users spending more 210 minutes or more are switching to other operator.\n",
        "Problems(on basis of assumption)  :\n",
        "1. Network Disturbance during a Call\n",
        "2. Noise during a call\n",
        "Solution:\n",
        "1. Need to Upgrade the service to improve Voice Quality.\n",
        "2. Network Upgradation\n"
      ]
    },
    {
      "cell_type": "markdown",
      "metadata": {
        "id": "0XnCymHIZQjz"
      },
      "source": [
        "## Number of call Effect on Churn"
      ]
    },
    {
      "cell_type": "code",
      "metadata": {
        "colab": {
          "base_uri": "https://localhost:8080/",
          "height": 598
        },
        "id": "8vakO8rFxox-",
        "outputId": "d0b44c9e-d585-444e-d7c8-48084b993430"
      },
      "source": [
        "new_df.boxplot(column=['ttl_day_calls','ttl_eve_calls','ttl_nyt_calls','ttl_intl_calls'], by='Churn')"
      ],
      "execution_count": null,
      "outputs": [
        {
          "output_type": "stream",
          "text": [
            "/usr/local/lib/python3.7/dist-packages/numpy/core/_asarray.py:83: VisibleDeprecationWarning: Creating an ndarray from ragged nested sequences (which is a list-or-tuple of lists-or-tuples-or ndarrays with different lengths or shapes) is deprecated. If you meant to do this, you must specify 'dtype=object' when creating the ndarray\n",
            "  return array(a, dtype, copy=False, order=order)\n",
            "/usr/local/lib/python3.7/dist-packages/numpy/core/_asarray.py:83: VisibleDeprecationWarning: Creating an ndarray from ragged nested sequences (which is a list-or-tuple of lists-or-tuples-or ndarrays with different lengths or shapes) is deprecated. If you meant to do this, you must specify 'dtype=object' when creating the ndarray\n",
            "  return array(a, dtype, copy=False, order=order)\n",
            "/usr/local/lib/python3.7/dist-packages/numpy/core/_asarray.py:83: VisibleDeprecationWarning: Creating an ndarray from ragged nested sequences (which is a list-or-tuple of lists-or-tuples-or ndarrays with different lengths or shapes) is deprecated. If you meant to do this, you must specify 'dtype=object' when creating the ndarray\n",
            "  return array(a, dtype, copy=False, order=order)\n",
            "/usr/local/lib/python3.7/dist-packages/numpy/core/_asarray.py:83: VisibleDeprecationWarning: Creating an ndarray from ragged nested sequences (which is a list-or-tuple of lists-or-tuples-or ndarrays with different lengths or shapes) is deprecated. If you meant to do this, you must specify 'dtype=object' when creating the ndarray\n",
            "  return array(a, dtype, copy=False, order=order)\n"
          ],
          "name": "stderr"
        },
        {
          "output_type": "execute_result",
          "data": {
            "text/plain": [
              "array([[<matplotlib.axes._subplots.AxesSubplot object at 0x7f03fa211ed0>,\n",
              "        <matplotlib.axes._subplots.AxesSubplot object at 0x7f03fa1a1890>],\n",
              "       [<matplotlib.axes._subplots.AxesSubplot object at 0x7f03fa211d90>,\n",
              "        <matplotlib.axes._subplots.AxesSubplot object at 0x7f03fbe9ed50>]],\n",
              "      dtype=object)"
            ]
          },
          "metadata": {
            "tags": []
          },
          "execution_count": 403
        },
        {
          "output_type": "display_data",
          "data": {
            "image/png": "[encoded data removed]",
            "text/plain": [
              "<Figure size 720x360 with 4 Axes>"
            ]
          },
          "metadata": {
            "tags": [],
            "needs_background": "light"
          }
        }
      ]
    },
    {
      "cell_type": "markdown",
      "metadata": {
        "id": "6E8H8l9gcquh"
      },
      "source": [
        "* we can obseve that for the churn customer the median is slightly higher \n",
        "than 100 which indicates there are call drops which may lead to more calls .\n"
      ]
    },
    {
      "cell_type": "code",
      "metadata": {
        "id": "JAK9XURBgfns"
      },
      "source": [
        "\n",
        "# fig, ax = plt.subplots()\n",
        "\n",
        "# a_heights, a_bins = np.histogram(tele_df[tele_df['Churn']==True]['acc_length'])\n",
        "# b_heights, b_bins = np.histogram(tele_df[tele_df['Churn']==False]['acc_length'], bins=a_bins)\n",
        "\n",
        "# width = (a_bins[1] - a_bins[0])/3\n",
        "\n",
        "# ax.bar(a_bins[:-1], a_heights, width=width, facecolor='cornflowerblue')\n",
        "# ax.bar(b_bins[:-1]+width, b_heights, width=width, facecolor='seagreen')\n",
        "# plt.title('Histogram plot for account length')"
      ],
      "execution_count": null,
      "outputs": []
    },
    {
      "cell_type": "code",
      "metadata": {
        "colab": {
          "base_uri": "https://localhost:8080/",
          "height": 599
        },
        "id": "NC5fojYoyaYz",
        "outputId": "dc0ca20d-80a2-449a-a591-1c282e6651ab"
      },
      "source": [
        "new_df.boxplot(column=['ttl_day_calls','ttl_eve_calls','ttl_nyt_calls','ttl_intl_calls'], by=['Churn','voice_mail_plan'])"
      ],
      "execution_count": null,
      "outputs": [
        {
          "output_type": "stream",
          "text": [
            "/usr/local/lib/python3.7/dist-packages/numpy/core/_asarray.py:83: VisibleDeprecationWarning: Creating an ndarray from ragged nested sequences (which is a list-or-tuple of lists-or-tuples-or ndarrays with different lengths or shapes) is deprecated. If you meant to do this, you must specify 'dtype=object' when creating the ndarray\n",
            "  return array(a, dtype, copy=False, order=order)\n",
            "/usr/local/lib/python3.7/dist-packages/numpy/core/_asarray.py:83: VisibleDeprecationWarning: Creating an ndarray from ragged nested sequences (which is a list-or-tuple of lists-or-tuples-or ndarrays with different lengths or shapes) is deprecated. If you meant to do this, you must specify 'dtype=object' when creating the ndarray\n",
            "  return array(a, dtype, copy=False, order=order)\n",
            "/usr/local/lib/python3.7/dist-packages/numpy/core/_asarray.py:83: VisibleDeprecationWarning: Creating an ndarray from ragged nested sequences (which is a list-or-tuple of lists-or-tuples-or ndarrays with different lengths or shapes) is deprecated. If you meant to do this, you must specify 'dtype=object' when creating the ndarray\n",
            "  return array(a, dtype, copy=False, order=order)\n",
            "/usr/local/lib/python3.7/dist-packages/numpy/core/_asarray.py:83: VisibleDeprecationWarning: Creating an ndarray from ragged nested sequences (which is a list-or-tuple of lists-or-tuples-or ndarrays with different lengths or shapes) is deprecated. If you meant to do this, you must specify 'dtype=object' when creating the ndarray\n",
            "  return array(a, dtype, copy=False, order=order)\n"
          ],
          "name": "stderr"
        },
        {
          "output_type": "execute_result",
          "data": {
            "text/plain": [
              "array([[<matplotlib.axes._subplots.AxesSubplot object at 0x7f03f9cb9a10>,\n",
              "        <matplotlib.axes._subplots.AxesSubplot object at 0x7f03f9ccd1d0>],\n",
              "       [<matplotlib.axes._subplots.AxesSubplot object at 0x7f03f9cb9350>,\n",
              "        <matplotlib.axes._subplots.AxesSubplot object at 0x7f03f9c510d0>]],\n",
              "      dtype=object)"
            ]
          },
          "metadata": {
            "tags": []
          },
          "execution_count": 407
        },
        {
          "output_type": "display_data",
          "data": {
            "image/png": "[encoded data removed]",
            "text/plain": [
              "<Figure size 720x360 with 4 Axes>"
            ]
          },
          "metadata": {
            "tags": [],
            "needs_background": "light"
          }
        }
      ]
    },
    {
      "cell_type": "markdown",
      "metadata": {
        "id": "C_MYFH8Ta3RZ"
      },
      "source": [
        "Day Time-\n",
        "  * Churning Customer without voice mail plan  making more day calls ."
      ]
    },
    {
      "cell_type": "markdown",
      "metadata": {
        "id": "F5MUdyq-a3Nw"
      },
      "source": [
        ""
      ]
    },
    {
      "cell_type": "code",
      "metadata": {
        "colab": {
          "base_uri": "https://localhost:8080/",
          "height": 432
        },
        "id": "AYcVzLXBz1S5",
        "outputId": "78ae07f9-a416-4d5a-e519-6ec0613564fe"
      },
      "source": [
        "new_df.boxplot(column=['cust_servc_calls'], by=['Churn','voice_mail_plan'])"
      ],
      "execution_count": null,
      "outputs": [
        {
          "output_type": "stream",
          "text": [
            "/usr/local/lib/python3.7/dist-packages/numpy/core/_asarray.py:83: VisibleDeprecationWarning: Creating an ndarray from ragged nested sequences (which is a list-or-tuple of lists-or-tuples-or ndarrays with different lengths or shapes) is deprecated. If you meant to do this, you must specify 'dtype=object' when creating the ndarray\n",
            "  return array(a, dtype, copy=False, order=order)\n"
          ],
          "name": "stderr"
        },
        {
          "output_type": "execute_result",
          "data": {
            "text/plain": [
              "<matplotlib.axes._subplots.AxesSubplot at 0x7f03f9780050>"
            ]
          },
          "metadata": {
            "tags": []
          },
          "execution_count": 413
        },
        {
          "output_type": "display_data",
          "data": {
            "image/png": "[encoded data removed]",
            "text/plain": [
              "<Figure size 720x360 with 1 Axes>"
            ]
          },
          "metadata": {
            "tags": [],
            "needs_background": "light"
          }
        }
      ]
    },
    {
      "cell_type": "code",
      "metadata": {
        "colab": {
          "base_uri": "https://localhost:8080/",
          "height": 795
        },
        "id": "DZfNend40DIh",
        "outputId": "d3bf7ad2-6590-46f6-93d5-5091234c22b1"
      },
      "source": [
        "new_df.boxplot(column=['cust_servc_calls','ttl_intl_calls'], by=['Churn','intl_plan'])"
      ],
      "execution_count": null,
      "outputs": [
        {
          "output_type": "stream",
          "text": [
            "/usr/local/lib/python3.7/dist-packages/numpy/core/_asarray.py:83: VisibleDeprecationWarning: Creating an ndarray from ragged nested sequences (which is a list-or-tuple of lists-or-tuples-or ndarrays with different lengths or shapes) is deprecated. If you meant to do this, you must specify 'dtype=object' when creating the ndarray\n",
            "  return array(a, dtype, copy=False, order=order)\n",
            "/usr/local/lib/python3.7/dist-packages/numpy/core/_asarray.py:83: VisibleDeprecationWarning: Creating an ndarray from ragged nested sequences (which is a list-or-tuple of lists-or-tuples-or ndarrays with different lengths or shapes) is deprecated. If you meant to do this, you must specify 'dtype=object' when creating the ndarray\n",
            "  return array(a, dtype, copy=False, order=order)\n"
          ],
          "name": "stderr"
        },
        {
          "output_type": "execute_result",
          "data": {
            "text/plain": [
              "array([<matplotlib.axes._subplots.AxesSubplot object at 0x7f03f9482450>,\n",
              "       <matplotlib.axes._subplots.AxesSubplot object at 0x7f03f9251090>],\n",
              "      dtype=object)"
            ]
          },
          "metadata": {
            "tags": []
          },
          "execution_count": 448
        },
        {
          "output_type": "display_data",
          "data": {
            "image/png": "[encoded data removed]",
            "text/plain": [
              "<Figure size 1440x720 with 2 Axes>"
            ]
          },
          "metadata": {
            "tags": [],
            "needs_background": "light"
          }
        }
      ]
    },
    {
      "cell_type": "markdown",
      "metadata": {
        "id": "eFImXMq62hWh"
      },
      "source": [
        "Churners with no international plan are  making more customer service calls.\n"
      ]
    },
    {
      "cell_type": "code",
      "metadata": {
        "colab": {
          "base_uri": "https://localhost:8080/",
          "height": 174
        },
        "id": "lCJHb_AeeR8P",
        "outputId": "85d6c340-7dd5-4d70-98a5-dacbd253bbea"
      },
      "source": [
        "df6 = new_df.groupby(['Churn','intl_plan'])['intl_plan'].count()\n",
        "df6.unstack()\n",
        "\n",
        "# people having intl plan with false churning:\n",
        "\n",
        "percent_false_intl = (df6.loc[False,'Yes']/df6.loc[False].sum())*100\n",
        "print('The % of customers with false churning having intl plan is', round(percent_false_intl,2),'%')\n",
        "\n",
        "# people having intl plan with true churning:\n",
        "\n",
        "percent_true_intl  = (df6.loc[True,'Yes']/df6.loc[True].sum())*100\n",
        "print('The % of customers with true churning having intl plan is',round(percent_true_intl,2),'%')\n",
        "\n",
        "df6.unstack()\n"
      ],
      "execution_count": null,
      "outputs": [
        {
          "output_type": "stream",
          "text": [
            "The % of customers with false churning having intl plan is 6.21 %\n",
            "The % of customers with true churning having intl plan is 29.62 %\n"
          ],
          "name": "stdout"
        },
        {
          "output_type": "execute_result",
          "data": {
            "text/html": [
              "<div>\n",
              "<style scoped>\n",
              "    .dataframe tbody tr th:only-of-type {\n",
              "        vertical-align: middle;\n",
              "    }\n",
              "\n",
              "    .dataframe tbody tr th {\n",
              "        vertical-align: top;\n",
              "    }\n",
              "\n",
              "    .dataframe thead th {\n",
              "        text-align: right;\n",
              "    }\n",
              "</style>\n",
              "<table border=\"1\" class=\"dataframe\">\n",
              "  <thead>\n",
              "    <tr style=\"text-align: right;\">\n",
              "      <th>intl_plan</th>\n",
              "      <th>No</th>\n",
              "      <th>Yes</th>\n",
              "    </tr>\n",
              "    <tr>\n",
              "      <th>Churn</th>\n",
              "      <th></th>\n",
              "      <th></th>\n",
              "    </tr>\n",
              "  </thead>\n",
              "  <tbody>\n",
              "    <tr>\n",
              "      <th>False</th>\n",
              "      <td>1826</td>\n",
              "      <td>121</td>\n",
              "    </tr>\n",
              "    <tr>\n",
              "      <th>True</th>\n",
              "      <td>278</td>\n",
              "      <td>117</td>\n",
              "    </tr>\n",
              "  </tbody>\n",
              "</table>\n",
              "</div>"
            ],
            "text/plain": [
              "intl_plan    No  Yes\n",
              "Churn               \n",
              "False      1826  121\n",
              "True        278  117"
            ]
          },
          "metadata": {
            "tags": []
          },
          "execution_count": 511
        }
      ]
    },
    {
      "cell_type": "code",
      "metadata": {
        "colab": {
          "base_uri": "https://localhost:8080/",
          "height": 381
        },
        "id": "iNyFjTOVe7O9",
        "outputId": "6093d214-bd6c-4608-a846-8fbdbaaf40ec"
      },
      "source": [
        "plt.rcParams['figure.figsize'] = (10, 5)\n",
        "df6.unstack().plot(kind='bar')\n",
        "plt.title('International plan vs churn')\n",
        "plt.xlabel('churn')\n",
        "plt.ylabel('International plan')\n"
      ],
      "execution_count": null,
      "outputs": [
        {
          "output_type": "execute_result",
          "data": {
            "text/plain": [
              "Text(0, 0.5, 'International plan')"
            ]
          },
          "metadata": {
            "tags": []
          },
          "execution_count": 512
        },
        {
          "output_type": "display_data",
          "data": {
            "image/png": "[encoded data removed]",
            "text/plain": [
              "<Figure size 720x360 with 1 Axes>"
            ]
          },
          "metadata": {
            "tags": [],
            "needs_background": "light"
          }
        }
      ]
    },
    {
      "cell_type": "markdown",
      "metadata": {
        "id": "0fN2Zf9BfNMp"
      },
      "source": [
        "***The % of customers with false churning having intl plan is 6.21 % ***\n",
        "\n",
        "***The % of customers with true churning having intl plan is 29.62 % ***"
      ]
    },
    {
      "cell_type": "code",
      "metadata": {
        "id": "34v5NA40vidi"
      },
      "source": [
        "0.loyal customer -86%  churning cust.-14%\n",
        "1.State wise churning percentage\n",
        "2.state wise distribution of customer service calls , people who are getting more service calls are leaving\n",
        "3.percentage of people having international plans for true churners is higher\n",
        "4.loyal customer prefer voice mail plan more than churning customer\n",
        "5.vmail message vs churning \n",
        "6."
      ],
      "execution_count": null,
      "outputs": []
    }
  ]
}